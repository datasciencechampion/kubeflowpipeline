{
 "cells": [
  {
   "cell_type": "code",
   "execution_count": 1,
   "id": "c65c537a",
   "metadata": {},
   "outputs": [
    {
     "name": "stdout",
     "output_type": "stream",
     "text": [
      "/home/jupyter/kubeflow-pipeline-demo/customer_churn_analysis\n"
     ]
    }
   ],
   "source": [
    "cd /home/jupyter/kubeflow-pipeline-demo/customer_churn_analysis"
   ]
  },
  {
   "cell_type": "code",
   "execution_count": 20,
   "id": "75681669",
   "metadata": {},
   "outputs": [],
   "source": [
    "#!pip install -r requirements.txt"
   ]
  },
  {
   "cell_type": "code",
   "execution_count": 34,
   "id": "12664ac3",
   "metadata": {},
   "outputs": [],
   "source": [
    "#!git clone https://github.com/datasciencechampion/customer_churn_analysis.git"
   ]
  },
  {
   "cell_type": "code",
   "execution_count": null,
   "id": "86ced19e",
   "metadata": {},
   "outputs": [],
   "source": [
    "#gs_bucket_name=\"churn-prediction-demo\"\n",
    "#Bucket_uri=\"gs://churn-prediction-demo\"\n",
    "#version=1\n",
    "#store_artifacts=Bucket_uri + \"/\" + str(version)\n",
    "#sample_data_path=Bucket_uri + \"/\" + \"data/sample_churn_data.csv\"\n",
    "#processed_data_path=Bucket_uri + \"/\" + \"processed/processed_churn_data.csv\""
   ]
  },
  {
   "cell_type": "code",
   "execution_count": 2,
   "id": "d3481fd0",
   "metadata": {},
   "outputs": [
    {
     "name": "stdout",
     "output_type": "stream",
     "text": [
      "gs_bucket_name=\"churn-prediction-demo\"\n",
      "Bucket_uri=\"gs://churn-prediction-demo\"\n",
      "version=1\n",
      "store_artifacts=Bucket_uri + \"/\" + str(version)\n",
      "sample_data_path=Bucket_uri + \"/\" + \"data/sample_churn_data.csv\"\n",
      "processed_data_path = Bucket_uri + \"/\" + \"processed/processed_churn_data.csv\"\n"
     ]
    }
   ],
   "source": [
    "cat global_config.py"
   ]
  },
  {
   "cell_type": "code",
   "execution_count": 2,
   "id": "77288b67",
   "metadata": {},
   "outputs": [],
   "source": [
    "!python global_config.py"
   ]
  },
  {
   "cell_type": "code",
   "execution_count": 4,
   "id": "476569e1",
   "metadata": {},
   "outputs": [
    {
     "name": "stdout",
     "output_type": "stream",
     "text": [
      "gs://churn-prediction-demo/data/sample_churn_data.csv\n",
      "gs://churn-prediction-demo/processed/processed_churn_data.csv\n"
     ]
    }
   ],
   "source": [
    "import global_config\n",
    "print (global_config.sample_data_path)\n",
    "print (global_config.processed_data_path)"
   ]
  },
  {
   "cell_type": "code",
   "execution_count": null,
   "id": "c449cd19",
   "metadata": {},
   "outputs": [],
   "source": []
  },
  {
   "cell_type": "code",
   "execution_count": 142,
   "id": "9b98d7f9",
   "metadata": {},
   "outputs": [],
   "source": []
  },
  {
   "cell_type": "code",
   "execution_count": 143,
   "id": "2a4dcea6",
   "metadata": {},
   "outputs": [
    {
     "name": "stdout",
     "output_type": "stream",
     "text": [
      "gs://churn-prediction-demo/data/sample_churn_data.csv\n"
     ]
    },
    {
     "ename": "AttributeError",
     "evalue": "module 'config' has no attribute 'processed_data_path'",
     "output_type": "error",
     "traceback": [
      "\u001b[0;31m---------------------------------------------------------------------------\u001b[0m",
      "\u001b[0;31mAttributeError\u001b[0m                            Traceback (most recent call last)",
      "\u001b[0;32m<ipython-input-143-bdf98c3a125f>\u001b[0m in \u001b[0;36m<module>\u001b[0;34m\u001b[0m\n\u001b[1;32m      1\u001b[0m \u001b[0;32mimport\u001b[0m \u001b[0mconfig\u001b[0m\u001b[0;34m\u001b[0m\u001b[0;34m\u001b[0m\u001b[0m\n\u001b[1;32m      2\u001b[0m \u001b[0mprint\u001b[0m \u001b[0;34m(\u001b[0m\u001b[0mconfig\u001b[0m\u001b[0;34m.\u001b[0m\u001b[0msample_data_path\u001b[0m\u001b[0;34m)\u001b[0m\u001b[0;34m\u001b[0m\u001b[0;34m\u001b[0m\u001b[0m\n\u001b[0;32m----> 3\u001b[0;31m \u001b[0mprint\u001b[0m \u001b[0;34m(\u001b[0m\u001b[0mconfig\u001b[0m\u001b[0;34m.\u001b[0m\u001b[0mprocessed_data_path\u001b[0m\u001b[0;34m)\u001b[0m\u001b[0;34m\u001b[0m\u001b[0;34m\u001b[0m\u001b[0m\n\u001b[0m",
      "\u001b[0;31mAttributeError\u001b[0m: module 'config' has no attribute 'processed_data_path'"
     ]
    }
   ],
   "source": []
  },
  {
   "cell_type": "code",
   "execution_count": 48,
   "id": "3a12d50a",
   "metadata": {},
   "outputs": [
    {
     "name": "stdout",
     "output_type": "stream",
     "text": [
      "Loading samples into Cloud storage bucket : gs://churn-prediction-demo\n",
      "Churn sample data loaded into Cloud storage bucket : gs://churn-prediction-demo\n"
     ]
    }
   ],
   "source": [
    "!python get_sample_data.py"
   ]
  },
  {
   "cell_type": "code",
   "execution_count": 1,
   "id": "aebffa59",
   "metadata": {},
   "outputs": [
    {
     "name": "stdout",
     "output_type": "stream",
     "text": [
      "/home/jupyter/kubeflow-pipeline-demo/customer_churn_analysis\n"
     ]
    }
   ],
   "source": [
    "cd /home/jupyter//kubeflow-pipeline-demo/customer_churn_analysis"
   ]
  },
  {
   "cell_type": "code",
   "execution_count": 28,
   "id": "6849e017",
   "metadata": {},
   "outputs": [
    {
     "name": "stdout",
     "output_type": "stream",
     "text": [
      "<class 'pandas.core.frame.DataFrame'>\n",
      "RangeIndex: 7043 entries, 0 to 7042\n",
      "Data columns (total 21 columns):\n",
      " #   Column            Non-Null Count  Dtype  \n",
      "---  ------            --------------  -----  \n",
      " 0   customerID        7043 non-null   object \n",
      " 1   gender            7043 non-null   object \n",
      " 2   SeniorCitizen     7043 non-null   int64  \n",
      " 3   Partner           7043 non-null   object \n",
      " 4   Dependents        7043 non-null   object \n",
      " 5   tenure            7043 non-null   int64  \n",
      " 6   PhoneService      7043 non-null   object \n",
      " 7   MultipleLines     7043 non-null   object \n",
      " 8   InternetService   7043 non-null   object \n",
      " 9   OnlineSecurity    7043 non-null   object \n",
      " 10  OnlineBackup      7043 non-null   object \n",
      " 11  DeviceProtection  7043 non-null   object \n",
      " 12  TechSupport       7043 non-null   object \n",
      " 13  StreamingTV       7043 non-null   object \n",
      " 14  StreamingMovies   7043 non-null   object \n",
      " 15  Contract          7043 non-null   object \n",
      " 16  PaperlessBilling  7043 non-null   object \n",
      " 17  PaymentMethod     7043 non-null   object \n",
      " 18  MonthlyCharges    7043 non-null   float64\n",
      " 19  TotalCharges      7043 non-null   object \n",
      " 20  Churn             7043 non-null   object \n",
      "dtypes: float64(1), int64(2), object(18)\n",
      "memory usage: 1.1+ MB\n"
     ]
    }
   ],
   "source": [
    "df.info()"
   ]
  },
  {
   "cell_type": "code",
   "execution_count": 4,
   "id": "e0b0a73b",
   "metadata": {},
   "outputs": [],
   "source": [
    "#data Cleaning\n",
    "#the TotalCharges is the amount charged to the customer, hence this should be numeric\n",
    "df['TotalCharges'] = pd.to_numeric(df['TotalCharges'], errors='coerce')"
   ]
  },
  {
   "cell_type": "code",
   "execution_count": 5,
   "id": "38596586",
   "metadata": {},
   "outputs": [],
   "source": [
    "# SeniorCitizen should be a qualitative column and not numeric, hence converting it into a object type\n",
    "df['SeniorCitizen'] = df['SeniorCitizen'].apply(lambda x: 'Yes' if x == 1 else 'No')"
   ]
  },
  {
   "cell_type": "code",
   "execution_count": 6,
   "id": "e1180387",
   "metadata": {},
   "outputs": [],
   "source": [
    "#Fill null values\n",
    "df['TotalCharges'].fillna(value=df['tenure'] * df['MonthlyCharges'], inplace=True)"
   ]
  },
  {
   "cell_type": "code",
   "execution_count": 7,
   "id": "88e29c11",
   "metadata": {},
   "outputs": [],
   "source": [
    "#convert churn class to numeric\n",
    "def churn_to_numeric(value):\n",
    "    if value.lower() == 'yes':\n",
    "        return 1\n",
    "    return 0\n",
    "df['Churn'] = df['Churn'].apply(churn_to_numeric)"
   ]
  },
  {
   "cell_type": "code",
   "execution_count": 8,
   "id": "0cf4846b",
   "metadata": {},
   "outputs": [
    {
     "data": {
      "text/html": [
       "<div>\n",
       "<style scoped>\n",
       "    .dataframe tbody tr th:only-of-type {\n",
       "        vertical-align: middle;\n",
       "    }\n",
       "\n",
       "    .dataframe tbody tr th {\n",
       "        vertical-align: top;\n",
       "    }\n",
       "\n",
       "    .dataframe thead th {\n",
       "        text-align: right;\n",
       "    }\n",
       "</style>\n",
       "<table border=\"1\" class=\"dataframe\">\n",
       "  <thead>\n",
       "    <tr style=\"text-align: right;\">\n",
       "      <th></th>\n",
       "      <th>tenure</th>\n",
       "      <th>MonthlyCharges</th>\n",
       "      <th>TotalCharges</th>\n",
       "      <th>Churn</th>\n",
       "    </tr>\n",
       "  </thead>\n",
       "  <tbody>\n",
       "    <tr>\n",
       "      <th>count</th>\n",
       "      <td>7043.000000</td>\n",
       "      <td>7043.000000</td>\n",
       "      <td>7043.000000</td>\n",
       "      <td>7043.000000</td>\n",
       "    </tr>\n",
       "    <tr>\n",
       "      <th>mean</th>\n",
       "      <td>32.371149</td>\n",
       "      <td>64.761692</td>\n",
       "      <td>2279.734304</td>\n",
       "      <td>0.265370</td>\n",
       "    </tr>\n",
       "    <tr>\n",
       "      <th>std</th>\n",
       "      <td>24.559481</td>\n",
       "      <td>30.090047</td>\n",
       "      <td>2266.794470</td>\n",
       "      <td>0.441561</td>\n",
       "    </tr>\n",
       "    <tr>\n",
       "      <th>min</th>\n",
       "      <td>0.000000</td>\n",
       "      <td>18.250000</td>\n",
       "      <td>0.000000</td>\n",
       "      <td>0.000000</td>\n",
       "    </tr>\n",
       "    <tr>\n",
       "      <th>25%</th>\n",
       "      <td>9.000000</td>\n",
       "      <td>35.500000</td>\n",
       "      <td>398.550000</td>\n",
       "      <td>0.000000</td>\n",
       "    </tr>\n",
       "    <tr>\n",
       "      <th>50%</th>\n",
       "      <td>29.000000</td>\n",
       "      <td>70.350000</td>\n",
       "      <td>1394.550000</td>\n",
       "      <td>0.000000</td>\n",
       "    </tr>\n",
       "    <tr>\n",
       "      <th>75%</th>\n",
       "      <td>55.000000</td>\n",
       "      <td>89.850000</td>\n",
       "      <td>3786.600000</td>\n",
       "      <td>1.000000</td>\n",
       "    </tr>\n",
       "    <tr>\n",
       "      <th>max</th>\n",
       "      <td>72.000000</td>\n",
       "      <td>118.750000</td>\n",
       "      <td>8684.800000</td>\n",
       "      <td>1.000000</td>\n",
       "    </tr>\n",
       "  </tbody>\n",
       "</table>\n",
       "</div>"
      ],
      "text/plain": [
       "            tenure  MonthlyCharges  TotalCharges        Churn\n",
       "count  7043.000000     7043.000000   7043.000000  7043.000000\n",
       "mean     32.371149       64.761692   2279.734304     0.265370\n",
       "std      24.559481       30.090047   2266.794470     0.441561\n",
       "min       0.000000       18.250000      0.000000     0.000000\n",
       "25%       9.000000       35.500000    398.550000     0.000000\n",
       "50%      29.000000       70.350000   1394.550000     0.000000\n",
       "75%      55.000000       89.850000   3786.600000     1.000000\n",
       "max      72.000000      118.750000   8684.800000     1.000000"
      ]
     },
     "execution_count": 8,
     "metadata": {},
     "output_type": "execute_result"
    }
   ],
   "source": [
    "df.describe()"
   ]
  },
  {
   "cell_type": "code",
   "execution_count": 9,
   "id": "69f3a58f",
   "metadata": {},
   "outputs": [
    {
     "name": "stdout",
     "output_type": "stream",
     "text": [
      "<class 'pandas.core.frame.DataFrame'>\n",
      "RangeIndex: 7043 entries, 0 to 7042\n",
      "Data columns (total 21 columns):\n",
      " #   Column            Non-Null Count  Dtype  \n",
      "---  ------            --------------  -----  \n",
      " 0   customerID        7043 non-null   object \n",
      " 1   gender            7043 non-null   object \n",
      " 2   SeniorCitizen     7043 non-null   object \n",
      " 3   Partner           7043 non-null   object \n",
      " 4   Dependents        7043 non-null   object \n",
      " 5   tenure            7043 non-null   int64  \n",
      " 6   PhoneService      7043 non-null   object \n",
      " 7   MultipleLines     7043 non-null   object \n",
      " 8   InternetService   7043 non-null   object \n",
      " 9   OnlineSecurity    7043 non-null   object \n",
      " 10  OnlineBackup      7043 non-null   object \n",
      " 11  DeviceProtection  7043 non-null   object \n",
      " 12  TechSupport       7043 non-null   object \n",
      " 13  StreamingTV       7043 non-null   object \n",
      " 14  StreamingMovies   7043 non-null   object \n",
      " 15  Contract          7043 non-null   object \n",
      " 16  PaperlessBilling  7043 non-null   object \n",
      " 17  PaymentMethod     7043 non-null   object \n",
      " 18  MonthlyCharges    7043 non-null   float64\n",
      " 19  TotalCharges      7043 non-null   float64\n",
      " 20  Churn             7043 non-null   int64  \n",
      "dtypes: float64(2), int64(2), object(17)\n",
      "memory usage: 1.1+ MB\n"
     ]
    }
   ],
   "source": [
    "df.info()"
   ]
  },
  {
   "cell_type": "code",
   "execution_count": 10,
   "id": "d55886cf",
   "metadata": {},
   "outputs": [
    {
     "name": "stdout",
     "output_type": "stream",
     "text": [
      "Data preprocessing done Sucessfully\n",
      "Processed Churn data loaded Sucessfully into Cloud storage bucket : gs://churn-prediction-demo\n"
     ]
    }
   ],
   "source": [
    "print(\"Data preprocessing done Sucessfully\")\n",
    "\n",
    "df.to_csv(\"processed_data.csv\")\n",
    "from google.cloud import storage\n",
    "storage_client = storage.Client()\n",
    "bucket = storage_client.bucket(config.gs_bucket_name)\n",
    "bucket.blob('processed/processed_churn_data.csv').upload_from_filename('processed_data.csv', content_type='text/csv')\n",
    "print(\"Processed Churn data loaded Sucessfully into Cloud storage bucket : gs://churn-prediction-demo\")"
   ]
  },
  {
   "cell_type": "code",
   "execution_count": 3,
   "id": "e3842d2f",
   "metadata": {},
   "outputs": [
    {
     "name": "stdout",
     "output_type": "stream",
     "text": [
      "python: can't open file 'global_config.py': [Errno 2] No such file or directory\n"
     ]
    }
   ],
   "source": [
    "!python global_config.py"
   ]
  },
  {
   "cell_type": "code",
   "execution_count": 7,
   "id": "2beb34bd",
   "metadata": {},
   "outputs": [
    {
     "name": "stdout",
     "output_type": "stream",
     "text": [
      "Train & Test Split Successfully comppleted\n",
      "Feature engineering started\n",
      "Feature engineering completed\n",
      "WARNING:tensorflow:From /opt/conda/lib/python3.7/site-packages/tensorflow/python/util/lazy_loader.py:63: The name tf.estimator.inputs is deprecated. Please use tf.compat.v1.estimator.inputs instead.\n",
      "\n",
      "WARNING:tensorflow:From train_evaluate_model.py:94: The name tf.estimator.inputs.pandas_input_fn is deprecated. Please use tf.compat.v1.estimator.inputs.pandas_input_fn instead.\n",
      "\n",
      "WARNING:tensorflow:Using temporary folder as model directory: /tmp/tmpvwc4kab4\n",
      "Traning started\n",
      "WARNING:tensorflow:From /opt/conda/lib/python3.7/site-packages/tensorflow/python/training/training_util.py:236: Variable.initialized_value (from tensorflow.python.ops.variables) is deprecated and will be removed in a future version.\n",
      "Instructions for updating:\n",
      "Use Variable.read_value. Variables in 2.X are initialized automatically both in eager and graph (inside tf.defun) contexts.\n",
      "WARNING:tensorflow:From /opt/conda/lib/python3.7/site-packages/tensorflow_estimator/python/estimator/inputs/queues/feeding_queue_runner.py:65: QueueRunner.__init__ (from tensorflow.python.training.queue_runner_impl) is deprecated and will be removed in a future version.\n",
      "Instructions for updating:\n",
      "To construct input pipelines, use the `tf.data` module.\n",
      "WARNING:tensorflow:From /opt/conda/lib/python3.7/site-packages/tensorflow_estimator/python/estimator/inputs/queues/feeding_functions.py:491: add_queue_runner (from tensorflow.python.training.queue_runner_impl) is deprecated and will be removed in a future version.\n",
      "Instructions for updating:\n",
      "To construct input pipelines, use the `tf.data` module.\n",
      "WARNING:tensorflow:Layer linear/linear_model is casting an input tensor from dtype float64 to the layer's dtype of float32, which is new behavior in TensorFlow 2.  The layer has dtype float32 because its dtype defaults to floatx.\n",
      "\n",
      "If you intended to run this layer in float32, you can safely ignore this warning. If in doubt, this warning is likely only an issue if you are porting a TensorFlow 1.X model to TensorFlow 2.\n",
      "\n",
      "To change all layers to have dtype float64 by default, call `tf.keras.backend.set_floatx('float64')`. To change just this layer, pass dtype='float64' to the layer constructor. If you are the author of this layer, you can disable autocasting by passing autocast=False to the base Layer constructor.\n",
      "\n",
      "WARNING:tensorflow:From /opt/conda/lib/python3.7/site-packages/tensorflow_estimator/python/estimator/canned/linear.py:1481: Layer.add_variable (from tensorflow.python.keras.engine.base_layer_v1) is deprecated and will be removed in a future version.\n",
      "Instructions for updating:\n",
      "Please use `layer.add_weight` method instead.\n",
      "WARNING:tensorflow:From /opt/conda/lib/python3.7/site-packages/tensorflow/python/keras/optimizer_v2/ftrl.py:112: calling Constant.__init__ (from tensorflow.python.ops.init_ops) with dtype is deprecated and will be removed in a future version.\n",
      "Instructions for updating:\n",
      "Call initializer instance with the dtype argument instead of passing it to the constructor\n",
      "2021-08-04 12:43:41.187289: I tensorflow/core/platform/profile_utils/cpu_utils.cc:104] CPU Frequency: 2200140000 Hz\n",
      "2021-08-04 12:43:41.187536: I tensorflow/compiler/xla/service/service.cc:168] XLA service 0x5626188561c0 initialized for platform Host (this does not guarantee that XLA will be used). Devices:\n",
      "2021-08-04 12:43:41.187679: I tensorflow/compiler/xla/service/service.cc:176]   StreamExecutor device (0): Host, Default Version\n",
      "2021-08-04 12:43:41.188270: I tensorflow/core/common_runtime/process_util.cc:146] Creating new thread pool with default inter op setting: 2. Tune using inter_op_parallelism_threads for best performance.\n",
      "WARNING:tensorflow:From /opt/conda/lib/python3.7/site-packages/tensorflow/python/training/monitored_session.py:906: start_queue_runners (from tensorflow.python.training.queue_runner_impl) is deprecated and will be removed in a future version.\n",
      "Instructions for updating:\n",
      "To construct input pipelines, use the `tf.data` module.\n",
      "^C\n"
     ]
    }
   ],
   "source": [
    "!python train_evaluate_model.py"
   ]
  },
  {
   "cell_type": "code",
   "execution_count": 32,
   "id": "84636ff2",
   "metadata": {},
   "outputs": [
    {
     "ename": "AttributeError",
     "evalue": "module 'config' has no attribute 'processed_data_path'",
     "output_type": "error",
     "traceback": [
      "\u001b[0;31m---------------------------------------------------------------------------\u001b[0m",
      "\u001b[0;31mAttributeError\u001b[0m                            Traceback (most recent call last)",
      "\u001b[0;32m<ipython-input-32-6860e3f312c3>\u001b[0m in \u001b[0;36m<module>\u001b[0;34m\u001b[0m\n\u001b[0;32m----> 1\u001b[0;31m \u001b[0mprint\u001b[0m \u001b[0;34m(\u001b[0m\u001b[0mconfig\u001b[0m\u001b[0;34m.\u001b[0m\u001b[0mprocessed_data_path\u001b[0m\u001b[0;34m)\u001b[0m\u001b[0;34m\u001b[0m\u001b[0;34m\u001b[0m\u001b[0m\n\u001b[0m\u001b[1;32m      2\u001b[0m \u001b[0mprint\u001b[0m \u001b[0;34m(\u001b[0m\u001b[0mconfig\u001b[0m\u001b[0;34m.\u001b[0m\u001b[0msample_data_path\u001b[0m\u001b[0;34m)\u001b[0m\u001b[0;34m\u001b[0m\u001b[0;34m\u001b[0m\u001b[0m\n",
      "\u001b[0;31mAttributeError\u001b[0m: module 'config' has no attribute 'processed_data_path'"
     ]
    }
   ],
   "source": [
    "print (config.processed_data_path)\n",
    "print (config.sample_data_path)"
   ]
  },
  {
   "cell_type": "code",
   "execution_count": 2,
   "id": "1b789354",
   "metadata": {},
   "outputs": [
    {
     "name": "stdout",
     "output_type": "stream",
     "text": [
      "python: can't open file 'preprocess_data.py': [Errno 2] No such file or directory\n"
     ]
    }
   ],
   "source": [
    "!python preprocess_data.py"
   ]
  },
  {
   "cell_type": "code",
   "execution_count": 64,
   "id": "1424f7ed",
   "metadata": {},
   "outputs": [],
   "source": [
    "from sklearn.model_selection import train_test_split\n",
    "import pandas as pd \n",
    "import global_config"
   ]
  },
  {
   "cell_type": "code",
   "execution_count": 65,
   "id": "81fc156d",
   "metadata": {},
   "outputs": [],
   "source": [
    "\n",
    "df = pd.read_csv(global_config.processed_data_path)"
   ]
  },
  {
   "cell_type": "code",
   "execution_count": 30,
   "id": "f93c7ea5",
   "metadata": {},
   "outputs": [
    {
     "name": "stdout",
     "output_type": "stream",
     "text": [
      "<class 'pandas.core.frame.DataFrame'>\n",
      "RangeIndex: 7043 entries, 0 to 7042\n",
      "Data columns (total 22 columns):\n",
      " #   Column            Non-Null Count  Dtype  \n",
      "---  ------            --------------  -----  \n",
      " 0   Unnamed: 0        7043 non-null   int64  \n",
      " 1   customerID        7043 non-null   object \n",
      " 2   gender            7043 non-null   object \n",
      " 3   SeniorCitizen     7043 non-null   object \n",
      " 4   Partner           7043 non-null   object \n",
      " 5   Dependents        7043 non-null   object \n",
      " 6   tenure            7043 non-null   int64  \n",
      " 7   PhoneService      7043 non-null   object \n",
      " 8   MultipleLines     7043 non-null   object \n",
      " 9   InternetService   7043 non-null   object \n",
      " 10  OnlineSecurity    7043 non-null   object \n",
      " 11  OnlineBackup      7043 non-null   object \n",
      " 12  DeviceProtection  7043 non-null   object \n",
      " 13  TechSupport       7043 non-null   object \n",
      " 14  StreamingTV       7043 non-null   object \n",
      " 15  StreamingMovies   7043 non-null   object \n",
      " 16  Contract          7043 non-null   object \n",
      " 17  PaperlessBilling  7043 non-null   object \n",
      " 18  PaymentMethod     7043 non-null   object \n",
      " 19  MonthlyCharges    7043 non-null   float64\n",
      " 20  TotalCharges      7043 non-null   float64\n",
      " 21  Churn             7043 non-null   int64  \n",
      "dtypes: float64(2), int64(3), object(17)\n",
      "memory usage: 1.2+ MB\n"
     ]
    }
   ],
   "source": [
    "df.info()"
   ]
  },
  {
   "cell_type": "code",
   "execution_count": 66,
   "id": "162490d9",
   "metadata": {},
   "outputs": [],
   "source": [
    "#Prediction\n",
    "# Creating two data frames : X => contains independent variables, y => contains dependent variable\n",
    "X = df.drop(['customerID', 'Churn'], axis=1)\n",
    "y = df['Churn']"
   ]
  },
  {
   "cell_type": "code",
   "execution_count": 67,
   "id": "1d609b9f",
   "metadata": {},
   "outputs": [],
   "source": [
    "from sklearn.model_selection import train_test_split\n"
   ]
  },
  {
   "cell_type": "code",
   "execution_count": 68,
   "id": "e5e0e43d",
   "metadata": {},
   "outputs": [],
   "source": [
    "X_train, X_test, y_train, y_test = train_test_split(X, y, test_size=0.3, random_state=101)"
   ]
  },
  {
   "cell_type": "code",
   "execution_count": 34,
   "id": "cfb16089",
   "metadata": {},
   "outputs": [
    {
     "name": "stdout",
     "output_type": "stream",
     "text": [
      "<class 'pandas.core.frame.DataFrame'>\n",
      "Int64Index: 2113 entries, 1093 to 19\n",
      "Data columns (total 20 columns):\n",
      " #   Column            Non-Null Count  Dtype  \n",
      "---  ------            --------------  -----  \n",
      " 0   Unnamed: 0        2113 non-null   int64  \n",
      " 1   gender            2113 non-null   object \n",
      " 2   SeniorCitizen     2113 non-null   object \n",
      " 3   Partner           2113 non-null   object \n",
      " 4   Dependents        2113 non-null   object \n",
      " 5   tenure            2113 non-null   int64  \n",
      " 6   PhoneService      2113 non-null   object \n",
      " 7   MultipleLines     2113 non-null   object \n",
      " 8   InternetService   2113 non-null   object \n",
      " 9   OnlineSecurity    2113 non-null   object \n",
      " 10  OnlineBackup      2113 non-null   object \n",
      " 11  DeviceProtection  2113 non-null   object \n",
      " 12  TechSupport       2113 non-null   object \n",
      " 13  StreamingTV       2113 non-null   object \n",
      " 14  StreamingMovies   2113 non-null   object \n",
      " 15  Contract          2113 non-null   object \n",
      " 16  PaperlessBilling  2113 non-null   object \n",
      " 17  PaymentMethod     2113 non-null   object \n",
      " 18  MonthlyCharges    2113 non-null   float64\n",
      " 19  TotalCharges      2113 non-null   float64\n",
      "dtypes: float64(2), int64(2), object(16)\n",
      "memory usage: 346.7+ KB\n"
     ]
    }
   ],
   "source": [
    "X_test.info()"
   ]
  },
  {
   "cell_type": "code",
   "execution_count": 35,
   "id": "47411f1f",
   "metadata": {},
   "outputs": [],
   "source": [
    "import tensorflow as tf"
   ]
  },
  {
   "cell_type": "code",
   "execution_count": 69,
   "id": "e3505f80",
   "metadata": {},
   "outputs": [],
   "source": [
    "#feature extraction - numerical\n",
    "tenure = tf.feature_column.numeric_column('tenure')\n",
    "monthly_charges = tf.feature_column.numeric_column('MonthlyCharges')\n",
    "total_charges = tf.feature_column.numeric_column('TotalCharges')"
   ]
  },
  {
   "cell_type": "code",
   "execution_count": 70,
   "id": "f9d2f393",
   "metadata": {},
   "outputs": [
    {
     "name": "stdout",
     "output_type": "stream",
     "text": [
      "gender -> ['Female' 'Male']\n",
      "SeniorCitizen -> ['No' 'Yes']\n",
      "Partner -> ['Yes' 'No']\n",
      "Dependents -> ['No' 'Yes']\n",
      "PhoneService -> ['No' 'Yes']\n",
      "MultipleLines -> ['No phone service' 'No' 'Yes']\n",
      "InternetService -> ['DSL' 'Fiber optic' 'No']\n",
      "OnlineSecurity -> ['No' 'Yes' 'No internet service']\n",
      "OnlineBackup -> ['Yes' 'No' 'No internet service']\n",
      "DeviceProtection -> ['No' 'Yes' 'No internet service']\n",
      "TechSupport -> ['No' 'Yes' 'No internet service']\n",
      "StreamingTV -> ['No' 'Yes' 'No internet service']\n",
      "StreamingMovies -> ['No' 'Yes' 'No internet service']\n",
      "Contract -> ['Month-to-month' 'One year' 'Two year']\n",
      "PaperlessBilling -> ['Yes' 'No']\n",
      "PaymentMethod -> ['Electronic check' 'Mailed check' 'Bank transfer (automatic)'\n",
      " 'Credit card (automatic)']\n"
     ]
    }
   ],
   "source": [
    "# feature extraction - categorical\n",
    "col_unique_val_counts = []\n",
    "cat_columns = []\n",
    "for col in X.columns:\n",
    "    if X[col].dtype.name != 'object':\n",
    "        continue\n",
    "    unique_vals = X[col].unique()\n",
    "    col_unique_val_counts.append(len(unique_vals))\n",
    "    cat_columns.append(col)\n",
    "    print(col, \"->\",unique_vals)"
   ]
  },
  {
   "cell_type": "code",
   "execution_count": 71,
   "id": "6d1b9e0b",
   "metadata": {},
   "outputs": [],
   "source": [
    "cat_cols = [tf.feature_column.categorical_column_with_hash_bucket(col, hash_bucket_size=size) \n",
    "            for col, size in zip(cat_columns, col_unique_val_counts)]"
   ]
  },
  {
   "cell_type": "code",
   "execution_count": 72,
   "id": "f9195c79",
   "metadata": {},
   "outputs": [],
   "source": [
    "num_cols = [tenure, monthly_charges, total_charges]\n",
    "feature_columns = num_cols + cat_cols"
   ]
  },
  {
   "cell_type": "code",
   "execution_count": 73,
   "id": "6f9eea07",
   "metadata": {},
   "outputs": [],
   "source": [
    "#Linear Classifier model\n",
    "#We are making use of TensorFlow because we are going to use Neural Networks to classify churn..\n",
    "n_classes = 2 # churn Yes or No\n",
    "batch_size = 100"
   ]
  },
  {
   "cell_type": "code",
   "execution_count": 74,
   "id": "3fc3e73b",
   "metadata": {},
   "outputs": [],
   "source": [
    "input_func = tf.compat.v1.estimator.inputs.pandas_input_fn(\n",
    "    x=X_train, \n",
    "    y=y_train, \n",
    "    batch_size=batch_size,\n",
    "    num_epochs=1000, \n",
    "    shuffle=True)"
   ]
  },
  {
   "cell_type": "code",
   "execution_count": 75,
   "id": "1efc13be",
   "metadata": {},
   "outputs": [
    {
     "name": "stdout",
     "output_type": "stream",
     "text": [
      "INFO:tensorflow:Using default config.\n",
      "WARNING:tensorflow:Using temporary folder as model directory: /tmp/tmpbusgobaq\n",
      "INFO:tensorflow:Using config: {'_model_dir': '/tmp/tmpbusgobaq', '_tf_random_seed': None, '_save_summary_steps': 100, '_save_checkpoints_steps': None, '_save_checkpoints_secs': 600, '_session_config': allow_soft_placement: true\n",
      "graph_options {\n",
      "  rewrite_options {\n",
      "    meta_optimizer_iterations: ONE\n",
      "  }\n",
      "}\n",
      ", '_keep_checkpoint_max': 5, '_keep_checkpoint_every_n_hours': 10000, '_log_step_count_steps': 100, '_train_distribute': None, '_device_fn': None, '_protocol': None, '_eval_distribute': None, '_experimental_distribute': None, '_experimental_max_worker_delay_secs': None, '_session_creation_timeout_secs': 7200, '_service': None, '_cluster_spec': ClusterSpec({}), '_task_type': 'worker', '_task_id': 0, '_global_id_in_cluster': 0, '_master': '', '_evaluation_master': '', '_is_chief': True, '_num_ps_replicas': 0, '_num_worker_replicas': 1}\n"
     ]
    }
   ],
   "source": [
    "linear_model= tf.estimator.LinearClassifier(feature_columns=feature_columns, n_classes=n_classes)"
   ]
  },
  {
   "cell_type": "code",
   "execution_count": 76,
   "id": "1b0cc8a7",
   "metadata": {},
   "outputs": [
    {
     "name": "stdout",
     "output_type": "stream",
     "text": [
      "INFO:tensorflow:Calling model_fn.\n",
      "WARNING:tensorflow:Layer linear/linear_model is casting an input tensor from dtype float64 to the layer's dtype of float32, which is new behavior in TensorFlow 2.  The layer has dtype float32 because its dtype defaults to floatx.\n",
      "\n",
      "If you intended to run this layer in float32, you can safely ignore this warning. If in doubt, this warning is likely only an issue if you are porting a TensorFlow 1.X model to TensorFlow 2.\n",
      "\n",
      "To change all layers to have dtype float64 by default, call `tf.keras.backend.set_floatx('float64')`. To change just this layer, pass dtype='float64' to the layer constructor. If you are the author of this layer, you can disable autocasting by passing autocast=False to the base Layer constructor.\n",
      "\n",
      "INFO:tensorflow:Done calling model_fn.\n",
      "INFO:tensorflow:Create CheckpointSaverHook.\n",
      "INFO:tensorflow:Graph was finalized.\n",
      "INFO:tensorflow:Running local_init_op.\n",
      "INFO:tensorflow:Done running local_init_op.\n",
      "INFO:tensorflow:Calling checkpoint listeners before saving checkpoint 0...\n",
      "INFO:tensorflow:Saving checkpoints for 0 into /tmp/tmpbusgobaq/model.ckpt.\n",
      "INFO:tensorflow:Calling checkpoint listeners after saving checkpoint 0...\n",
      "INFO:tensorflow:loss = 0.6931472, step = 0\n",
      "INFO:tensorflow:global_step/sec: 29.1717\n",
      "INFO:tensorflow:loss = 1.2883165, step = 100 (3.430 sec)\n",
      "INFO:tensorflow:global_step/sec: 75.489\n",
      "INFO:tensorflow:loss = 1.7272502, step = 200 (1.325 sec)\n",
      "INFO:tensorflow:global_step/sec: 76.2228\n",
      "INFO:tensorflow:loss = 0.8401427, step = 300 (1.312 sec)\n",
      "INFO:tensorflow:global_step/sec: 75.0107\n",
      "INFO:tensorflow:loss = 1.8254374, step = 400 (1.333 sec)\n",
      "INFO:tensorflow:global_step/sec: 75.564\n",
      "INFO:tensorflow:loss = 1.3319185, step = 500 (1.326 sec)\n",
      "INFO:tensorflow:global_step/sec: 75.323\n",
      "INFO:tensorflow:loss = 3.3209352, step = 600 (1.328 sec)\n",
      "INFO:tensorflow:global_step/sec: 75.411\n",
      "INFO:tensorflow:loss = 1.1395698, step = 700 (1.326 sec)\n",
      "INFO:tensorflow:global_step/sec: 76.8961\n",
      "INFO:tensorflow:loss = 5.660946, step = 800 (1.301 sec)\n",
      "INFO:tensorflow:global_step/sec: 76.5841\n",
      "INFO:tensorflow:loss = 2.5410724, step = 900 (1.306 sec)\n",
      "INFO:tensorflow:global_step/sec: 75.1781\n",
      "INFO:tensorflow:loss = 2.8296669, step = 1000 (1.330 sec)\n",
      "INFO:tensorflow:global_step/sec: 74.2053\n",
      "INFO:tensorflow:loss = 0.831303, step = 1100 (1.348 sec)\n",
      "INFO:tensorflow:global_step/sec: 75.2798\n",
      "INFO:tensorflow:loss = 1.0602844, step = 1200 (1.328 sec)\n",
      "INFO:tensorflow:global_step/sec: 75.0422\n",
      "INFO:tensorflow:loss = 0.8672804, step = 1300 (1.332 sec)\n",
      "INFO:tensorflow:global_step/sec: 74.6591\n",
      "INFO:tensorflow:loss = 2.8312826, step = 1400 (1.340 sec)\n",
      "INFO:tensorflow:global_step/sec: 74.673\n",
      "INFO:tensorflow:loss = 1.6365923, step = 1500 (1.339 sec)\n",
      "INFO:tensorflow:global_step/sec: 73.3018\n",
      "INFO:tensorflow:loss = 1.558823, step = 1600 (1.364 sec)\n",
      "INFO:tensorflow:global_step/sec: 73.5507\n",
      "INFO:tensorflow:loss = 3.4403567, step = 1700 (1.360 sec)\n",
      "INFO:tensorflow:global_step/sec: 73.0381\n",
      "INFO:tensorflow:loss = 2.3564348, step = 1800 (1.370 sec)\n",
      "INFO:tensorflow:global_step/sec: 72.8432\n",
      "INFO:tensorflow:loss = 1.3978037, step = 1900 (1.372 sec)\n",
      "INFO:tensorflow:global_step/sec: 73.5237\n",
      "INFO:tensorflow:loss = 0.9972536, step = 2000 (1.361 sec)\n",
      "INFO:tensorflow:global_step/sec: 73.5647\n",
      "INFO:tensorflow:loss = 0.5009174, step = 2100 (1.360 sec)\n",
      "INFO:tensorflow:global_step/sec: 74.104\n",
      "INFO:tensorflow:loss = 2.8643668, step = 2200 (1.349 sec)\n",
      "INFO:tensorflow:global_step/sec: 71.6489\n",
      "INFO:tensorflow:loss = 0.5559776, step = 2300 (1.393 sec)\n",
      "INFO:tensorflow:global_step/sec: 71.3866\n",
      "INFO:tensorflow:loss = 1.0812391, step = 2400 (1.401 sec)\n",
      "INFO:tensorflow:global_step/sec: 72.4228\n",
      "INFO:tensorflow:loss = 0.74633545, step = 2500 (1.381 sec)\n",
      "INFO:tensorflow:global_step/sec: 71.7744\n",
      "INFO:tensorflow:loss = 0.70649016, step = 2600 (1.393 sec)\n",
      "INFO:tensorflow:global_step/sec: 71.9724\n",
      "INFO:tensorflow:loss = 5.214384, step = 2700 (1.390 sec)\n",
      "INFO:tensorflow:global_step/sec: 72.114\n",
      "INFO:tensorflow:loss = 0.6549806, step = 2800 (1.386 sec)\n",
      "INFO:tensorflow:global_step/sec: 70.7467\n",
      "INFO:tensorflow:loss = 1.6566097, step = 2900 (1.414 sec)\n",
      "INFO:tensorflow:global_step/sec: 71.0998\n",
      "INFO:tensorflow:loss = 2.419185, step = 3000 (1.406 sec)\n",
      "INFO:tensorflow:global_step/sec: 71.3062\n",
      "INFO:tensorflow:loss = 2.2385728, step = 3100 (1.402 sec)\n",
      "INFO:tensorflow:global_step/sec: 71.0942\n",
      "INFO:tensorflow:loss = 0.91057855, step = 3200 (1.407 sec)\n",
      "INFO:tensorflow:global_step/sec: 71.139\n",
      "INFO:tensorflow:loss = 0.55101556, step = 3300 (1.406 sec)\n",
      "INFO:tensorflow:global_step/sec: 71.4733\n",
      "INFO:tensorflow:loss = 0.9869473, step = 3400 (1.399 sec)\n",
      "INFO:tensorflow:global_step/sec: 65.0027\n",
      "INFO:tensorflow:loss = 0.6822703, step = 3500 (1.538 sec)\n",
      "INFO:tensorflow:global_step/sec: 69.5996\n",
      "INFO:tensorflow:loss = 1.1084961, step = 3600 (1.437 sec)\n",
      "INFO:tensorflow:global_step/sec: 70.2567\n",
      "INFO:tensorflow:loss = 1.6308072, step = 3700 (1.423 sec)\n",
      "INFO:tensorflow:global_step/sec: 69.8271\n",
      "INFO:tensorflow:loss = 1.1996963, step = 3800 (1.432 sec)\n",
      "INFO:tensorflow:global_step/sec: 71.5196\n",
      "INFO:tensorflow:loss = 4.0266676, step = 3900 (1.399 sec)\n",
      "INFO:tensorflow:global_step/sec: 69.9606\n",
      "INFO:tensorflow:loss = 0.40028587, step = 4000 (1.429 sec)\n",
      "INFO:tensorflow:global_step/sec: 69.9708\n",
      "INFO:tensorflow:loss = 1.8641461, step = 4100 (1.429 sec)\n",
      "INFO:tensorflow:global_step/sec: 58.8294\n",
      "INFO:tensorflow:loss = 0.6573036, step = 4200 (1.700 sec)\n",
      "INFO:tensorflow:global_step/sec: 62.0485\n",
      "INFO:tensorflow:loss = 0.9322222, step = 4300 (1.614 sec)\n",
      "INFO:tensorflow:global_step/sec: 68.6252\n",
      "INFO:tensorflow:loss = 0.49482158, step = 4400 (1.454 sec)\n",
      "INFO:tensorflow:global_step/sec: 68.8802\n",
      "INFO:tensorflow:loss = 1.9076837, step = 4500 (1.452 sec)\n",
      "INFO:tensorflow:global_step/sec: 69.4855\n",
      "INFO:tensorflow:loss = 2.0449693, step = 4600 (1.439 sec)\n",
      "INFO:tensorflow:global_step/sec: 68.6341\n",
      "INFO:tensorflow:loss = 0.5449421, step = 4700 (1.457 sec)\n",
      "INFO:tensorflow:global_step/sec: 65.9592\n",
      "INFO:tensorflow:loss = 0.68331146, step = 4800 (1.516 sec)\n",
      "INFO:tensorflow:global_step/sec: 67.3405\n",
      "INFO:tensorflow:loss = 0.53936243, step = 4900 (1.485 sec)\n",
      "INFO:tensorflow:global_step/sec: 68.0029\n",
      "INFO:tensorflow:loss = 2.2316594, step = 5000 (1.470 sec)\n",
      "INFO:tensorflow:global_step/sec: 65.574\n",
      "INFO:tensorflow:loss = 0.47170097, step = 5100 (1.528 sec)\n",
      "INFO:tensorflow:global_step/sec: 69.7696\n",
      "INFO:tensorflow:loss = 0.74446607, step = 5200 (1.431 sec)\n",
      "INFO:tensorflow:global_step/sec: 67.8897\n",
      "INFO:tensorflow:loss = 1.1037482, step = 5300 (1.476 sec)\n",
      "INFO:tensorflow:global_step/sec: 69.7372\n",
      "INFO:tensorflow:loss = 0.48889878, step = 5400 (1.434 sec)\n",
      "INFO:tensorflow:global_step/sec: 68.1327\n",
      "INFO:tensorflow:loss = 0.5989063, step = 5500 (1.468 sec)\n",
      "INFO:tensorflow:global_step/sec: 69.3461\n",
      "INFO:tensorflow:loss = 0.37011287, step = 5600 (1.442 sec)\n",
      "INFO:tensorflow:global_step/sec: 66.9043\n",
      "INFO:tensorflow:loss = 0.6979392, step = 5700 (1.495 sec)\n",
      "INFO:tensorflow:global_step/sec: 68.7166\n",
      "INFO:tensorflow:loss = 1.1503097, step = 5800 (1.455 sec)\n",
      "INFO:tensorflow:global_step/sec: 67.4736\n",
      "INFO:tensorflow:loss = 0.81130713, step = 5900 (1.480 sec)\n",
      "INFO:tensorflow:global_step/sec: 69.2255\n",
      "INFO:tensorflow:loss = 1.4091256, step = 6000 (1.445 sec)\n",
      "INFO:tensorflow:global_step/sec: 68.9267\n",
      "INFO:tensorflow:loss = 0.6412296, step = 6100 (1.451 sec)\n",
      "INFO:tensorflow:global_step/sec: 67.703\n",
      "INFO:tensorflow:loss = 0.8221619, step = 6200 (1.477 sec)\n",
      "INFO:tensorflow:global_step/sec: 67.4157\n",
      "INFO:tensorflow:loss = 1.5937063, step = 6300 (1.483 sec)\n",
      "INFO:tensorflow:global_step/sec: 66.0822\n",
      "INFO:tensorflow:loss = 0.60677975, step = 6400 (1.513 sec)\n",
      "INFO:tensorflow:global_step/sec: 66.179\n",
      "INFO:tensorflow:loss = 1.7362098, step = 6500 (1.511 sec)\n",
      "INFO:tensorflow:global_step/sec: 67.974\n",
      "INFO:tensorflow:loss = 1.7862642, step = 6600 (1.471 sec)\n",
      "INFO:tensorflow:global_step/sec: 67.4071\n",
      "INFO:tensorflow:loss = 1.5131356, step = 6700 (1.484 sec)\n",
      "INFO:tensorflow:global_step/sec: 67.4294\n",
      "INFO:tensorflow:loss = 0.5413743, step = 6800 (1.483 sec)\n",
      "INFO:tensorflow:global_step/sec: 67.4684\n",
      "INFO:tensorflow:loss = 0.411174, step = 6900 (1.482 sec)\n",
      "INFO:tensorflow:global_step/sec: 66.8176\n",
      "INFO:tensorflow:loss = 1.617817, step = 7000 (1.497 sec)\n",
      "INFO:tensorflow:global_step/sec: 68.5825\n",
      "INFO:tensorflow:loss = 0.41704038, step = 7100 (1.461 sec)\n",
      "INFO:tensorflow:global_step/sec: 66.1942\n",
      "INFO:tensorflow:loss = 0.79777217, step = 7200 (1.508 sec)\n",
      "INFO:tensorflow:global_step/sec: 64.197\n",
      "INFO:tensorflow:loss = 0.36111996, step = 7300 (1.557 sec)\n",
      "INFO:tensorflow:global_step/sec: 64.5335\n",
      "INFO:tensorflow:loss = 0.8575209, step = 7400 (1.549 sec)\n",
      "INFO:tensorflow:global_step/sec: 68.1241\n",
      "INFO:tensorflow:loss = 0.7828431, step = 7500 (1.468 sec)\n",
      "INFO:tensorflow:global_step/sec: 67.2504\n",
      "INFO:tensorflow:loss = 0.94448143, step = 7600 (1.487 sec)\n",
      "INFO:tensorflow:global_step/sec: 67.5605\n",
      "INFO:tensorflow:loss = 0.38667083, step = 7700 (1.480 sec)\n",
      "INFO:tensorflow:global_step/sec: 67.4739\n",
      "INFO:tensorflow:loss = 0.8983532, step = 7800 (1.482 sec)\n",
      "INFO:tensorflow:global_step/sec: 66.5894\n",
      "INFO:tensorflow:loss = 1.4052975, step = 7900 (1.502 sec)\n",
      "INFO:tensorflow:global_step/sec: 67.3625\n",
      "INFO:tensorflow:loss = 0.8549602, step = 8000 (1.485 sec)\n",
      "INFO:tensorflow:global_step/sec: 63.2081\n",
      "INFO:tensorflow:loss = 0.5261672, step = 8100 (1.582 sec)\n",
      "INFO:tensorflow:global_step/sec: 63.7337\n",
      "INFO:tensorflow:loss = 0.5990433, step = 8200 (1.569 sec)\n",
      "INFO:tensorflow:global_step/sec: 66.8104\n",
      "INFO:tensorflow:loss = 0.6017782, step = 8300 (1.497 sec)\n",
      "INFO:tensorflow:global_step/sec: 66.2522\n",
      "INFO:tensorflow:loss = 0.5852248, step = 8400 (1.509 sec)\n",
      "INFO:tensorflow:global_step/sec: 66.4498\n",
      "INFO:tensorflow:loss = 0.42047572, step = 8500 (1.505 sec)\n",
      "INFO:tensorflow:global_step/sec: 66.4099\n",
      "INFO:tensorflow:loss = 0.5178505, step = 8600 (1.506 sec)\n",
      "INFO:tensorflow:global_step/sec: 66.4224\n",
      "INFO:tensorflow:loss = 0.7666546, step = 8700 (1.506 sec)\n",
      "INFO:tensorflow:global_step/sec: 66.0513\n",
      "INFO:tensorflow:loss = 0.7764187, step = 8800 (1.514 sec)\n",
      "INFO:tensorflow:global_step/sec: 66.2452\n",
      "INFO:tensorflow:loss = 0.59368324, step = 8900 (1.510 sec)\n",
      "INFO:tensorflow:global_step/sec: 66.3195\n",
      "INFO:tensorflow:loss = 0.8753864, step = 9000 (1.508 sec)\n",
      "INFO:tensorflow:global_step/sec: 65.2853\n",
      "INFO:tensorflow:loss = 0.85928136, step = 9100 (1.532 sec)\n",
      "INFO:tensorflow:global_step/sec: 62.2124\n",
      "INFO:tensorflow:loss = 0.4901496, step = 9200 (1.607 sec)\n",
      "INFO:tensorflow:global_step/sec: 66.0171\n",
      "INFO:tensorflow:loss = 0.4686979, step = 9300 (1.515 sec)\n",
      "INFO:tensorflow:global_step/sec: 61.8329\n",
      "INFO:tensorflow:loss = 0.56469053, step = 9400 (1.617 sec)\n",
      "INFO:tensorflow:global_step/sec: 65.8213\n",
      "INFO:tensorflow:loss = 0.65274376, step = 9500 (1.520 sec)\n",
      "INFO:tensorflow:global_step/sec: 64.6415\n",
      "INFO:tensorflow:loss = 0.5140944, step = 9600 (1.546 sec)\n",
      "INFO:tensorflow:global_step/sec: 64.5866\n",
      "INFO:tensorflow:loss = 1.3653586, step = 9700 (1.549 sec)\n",
      "INFO:tensorflow:global_step/sec: 65.3041\n",
      "INFO:tensorflow:loss = 1.1429312, step = 9800 (1.531 sec)\n",
      "INFO:tensorflow:global_step/sec: 65.6422\n",
      "INFO:tensorflow:loss = 2.584783, step = 9900 (1.523 sec)\n",
      "INFO:tensorflow:Calling checkpoint listeners before saving checkpoint 10000...\n",
      "INFO:tensorflow:Saving checkpoints for 10000 into /tmp/tmpbusgobaq/model.ckpt.\n",
      "INFO:tensorflow:Calling checkpoint listeners after saving checkpoint 10000...\n",
      "INFO:tensorflow:Loss for final step: 1.165216.\n"
     ]
    },
    {
     "data": {
      "text/plain": [
       "<tensorflow_estimator.python.estimator.canned.linear.LinearClassifierV2 at 0x7fb09d5d57d0>"
      ]
     },
     "execution_count": 76,
     "metadata": {},
     "output_type": "execute_result"
    }
   ],
   "source": [
    "linear_model.train(input_fn=input_func, steps=10000) # uinsg 10k steps"
   ]
  },
  {
   "cell_type": "code",
   "execution_count": null,
   "id": "853ac895",
   "metadata": {},
   "outputs": [],
   "source": []
  },
  {
   "cell_type": "code",
   "execution_count": 77,
   "id": "e8899a84",
   "metadata": {},
   "outputs": [],
   "source": [
    "#model evaluation\n",
    "eval_input_func = tf.compat.v1.estimator.inputs.pandas_input_fn(\n",
    "      x=X_test,\n",
    "      y=y_test,\n",
    "      batch_size=batch_size,\n",
    "      num_epochs=1,\n",
    "      shuffle=False)"
   ]
  },
  {
   "cell_type": "code",
   "execution_count": 78,
   "id": "c72ceb16",
   "metadata": {},
   "outputs": [
    {
     "name": "stdout",
     "output_type": "stream",
     "text": [
      "INFO:tensorflow:Calling model_fn.\n",
      "WARNING:tensorflow:Layer linear/linear_model is casting an input tensor from dtype float64 to the layer's dtype of float32, which is new behavior in TensorFlow 2.  The layer has dtype float32 because its dtype defaults to floatx.\n",
      "\n",
      "If you intended to run this layer in float32, you can safely ignore this warning. If in doubt, this warning is likely only an issue if you are porting a TensorFlow 1.X model to TensorFlow 2.\n",
      "\n",
      "To change all layers to have dtype float64 by default, call `tf.keras.backend.set_floatx('float64')`. To change just this layer, pass dtype='float64' to the layer constructor. If you are the author of this layer, you can disable autocasting by passing autocast=False to the base Layer constructor.\n",
      "\n",
      "INFO:tensorflow:Done calling model_fn.\n",
      "INFO:tensorflow:Starting evaluation at 2021-08-03T13:02:51Z\n",
      "INFO:tensorflow:Graph was finalized.\n",
      "INFO:tensorflow:Restoring parameters from /tmp/tmpbusgobaq/model.ckpt-10000\n",
      "INFO:tensorflow:Running local_init_op.\n",
      "INFO:tensorflow:Done running local_init_op.\n",
      "INFO:tensorflow:Inference Time : 3.07145s\n",
      "INFO:tensorflow:Finished evaluation at 2021-08-03-13:02:54\n",
      "INFO:tensorflow:Saving dict for global step 10000: accuracy = 0.8069096, accuracy_baseline = 0.73166114, auc = 0.8239634, auc_precision_recall = 0.6442679, average_loss = 0.4634741, global_step = 10000, label/mean = 0.26833886, loss = 0.47071552, precision = 0.6810934, prediction/mean = 0.24743366, recall = 0.52733684\n",
      "INFO:tensorflow:Saving 'checkpoint_path' summary for global step 10000: /tmp/tmpbusgobaq/model.ckpt-10000\n",
      "Accuracy: 0.8069096\n",
      "Precision: 0.6810934\n",
      "Loss: 0.47071552\n"
     ]
    }
   ],
   "source": [
    "results=linear_model.evaluate(eval_input_func)\n",
    "model_accuracy=results['accuracy']\n",
    "model_precision=results['precision']\n",
    "model_loss=results['loss']\n",
    "model_recall=results['recall']\n",
    "print('Accuracy: %s' % model_accuracy) \n",
    "print('Precision: %s' % model_precision) \n",
    "print('Loss: %s' % model_loss) \n",
    "  "
   ]
  },
  {
   "cell_type": "code",
   "execution_count": null,
   "id": "0fbb461f",
   "metadata": {},
   "outputs": [],
   "source": []
  },
  {
   "cell_type": "code",
   "execution_count": 79,
   "id": "d4c2d672",
   "metadata": {},
   "outputs": [],
   "source": [
    "# Now print to file\n",
    "import json\n",
    "with tf.io.gfile.GFile(global_config.store_artifacts + \"/metrics.json\", 'w') as outfile:\n",
    "        json.dump({ \"Accuracy\": str(model_accuracy), \"Precision\": str(model_precision), \"Loss\":str(model_loss)}, outfile)"
   ]
  },
  {
   "cell_type": "code",
   "execution_count": 80,
   "id": "4ab3984a",
   "metadata": {},
   "outputs": [],
   "source": [
    "#making predictions\n",
    "pred_input_func = tf.compat.v1.estimator.inputs.pandas_input_fn(\n",
    "      x=X_test,\n",
    "      batch_size=batch_size,\n",
    "      num_epochs=1,\n",
    "      shuffle=False)"
   ]
  },
  {
   "cell_type": "code",
   "execution_count": 81,
   "id": "0025f3ad",
   "metadata": {},
   "outputs": [],
   "source": [
    "preds = linear_model.predict(pred_input_func)"
   ]
  },
  {
   "cell_type": "code",
   "execution_count": 82,
   "id": "a8c63f8b",
   "metadata": {},
   "outputs": [
    {
     "name": "stdout",
     "output_type": "stream",
     "text": [
      "INFO:tensorflow:Calling model_fn.\n",
      "WARNING:tensorflow:Layer linear/linear_model is casting an input tensor from dtype float64 to the layer's dtype of float32, which is new behavior in TensorFlow 2.  The layer has dtype float32 because its dtype defaults to floatx.\n",
      "\n",
      "If you intended to run this layer in float32, you can safely ignore this warning. If in doubt, this warning is likely only an issue if you are porting a TensorFlow 1.X model to TensorFlow 2.\n",
      "\n",
      "To change all layers to have dtype float64 by default, call `tf.keras.backend.set_floatx('float64')`. To change just this layer, pass dtype='float64' to the layer constructor. If you are the author of this layer, you can disable autocasting by passing autocast=False to the base Layer constructor.\n",
      "\n",
      "INFO:tensorflow:Done calling model_fn.\n",
      "INFO:tensorflow:Graph was finalized.\n",
      "INFO:tensorflow:Restoring parameters from /tmp/tmpbusgobaq/model.ckpt-10000\n",
      "INFO:tensorflow:Running local_init_op.\n",
      "INFO:tensorflow:Done running local_init_op.\n"
     ]
    }
   ],
   "source": [
    "predictions = [p['class_ids'][0] for p in preds]"
   ]
  },
  {
   "cell_type": "code",
   "execution_count": 83,
   "id": "b5c0baba",
   "metadata": {},
   "outputs": [],
   "source": [
    "from sklearn.metrics import classification_report"
   ]
  },
  {
   "cell_type": "code",
   "execution_count": 84,
   "id": "4d7db3d8",
   "metadata": {},
   "outputs": [],
   "source": [
    "target_names = ['No', 'Yes']"
   ]
  },
  {
   "cell_type": "code",
   "execution_count": 85,
   "id": "f1e8a03d",
   "metadata": {},
   "outputs": [
    {
     "name": "stdout",
     "output_type": "stream",
     "text": [
      "              precision    recall  f1-score   support\n",
      "\n",
      "          No       0.84      0.91      0.87      1546\n",
      "         Yes       0.68      0.53      0.59       567\n",
      "\n",
      "    accuracy                           0.81      2113\n",
      "   macro avg       0.76      0.72      0.73      2113\n",
      "weighted avg       0.80      0.81      0.80      2113\n",
      "\n"
     ]
    }
   ],
   "source": [
    "print(classification_report(y_test, predictions, target_names=target_names))"
   ]
  },
  {
   "cell_type": "code",
   "execution_count": 86,
   "id": "4caff7dd",
   "metadata": {},
   "outputs": [
    {
     "name": "stdout",
     "output_type": "stream",
     "text": [
      "Confusion_matrix:  [[1406  140]\n",
      " [ 268  299]]\n"
     ]
    }
   ],
   "source": [
    "res=tf.math.confusion_matrix(y_test,predictions).numpy()\n",
    "# Printing the result\n",
    "print('Confusion_matrix: ',res)"
   ]
  },
  {
   "cell_type": "code",
   "execution_count": 87,
   "id": "c34682fa",
   "metadata": {},
   "outputs": [
    {
     "name": "stdout",
     "output_type": "stream",
     "text": [
      "Vocab : [0, 1]\n"
     ]
    }
   ],
   "source": [
    "vocab = list(df['Churn'].unique())\n",
    "print('Vocab :',vocab)"
   ]
  },
  {
   "cell_type": "code",
   "execution_count": 55,
   "id": "45b77ab5",
   "metadata": {},
   "outputs": [],
   "source": [
    "#cm = confusion_matrix(y, yhat, labels=vocab)\n",
    "import os\n",
    "from tensorflow.python.lib.io import file_io \n",
    "import json\n",
    "data = []\n",
    "for target_index, target_row in enumerate(res):\n",
    "    for predicted_index, count in enumerate(target_row):\n",
    "        data.append((vocab[target_index], vocab[predicted_index], count))\n",
    "\n",
    "df_cm = pd.DataFrame(data, columns=['target', 'predicted', 'count'])\n",
    "cm_file = os.path.join(global_config.store_artifacts, 'confusion_matrix.csv')\n",
    "with file_io.FileIO(cm_file, 'w') as f:\n",
    "    df_cm.to_csv(f, columns=['target', 'predicted', 'count'], header=False, index=False)\n",
    "\n",
    "metadata = {\n",
    "    'outputs' : [{\n",
    "      'type': 'confusion_matrix',\n",
    "      'format': 'csv',\n",
    "      'schema': [\n",
    "        {\"name\": \"target\", \"type\": \"CATEGORY\"},\n",
    "        {\"name\": \"predicted\", \"type\": \"CATEGORY\"},\n",
    "        {\"name\": \"count\", \"type\": \"NUMBER\"},\n",
    "      ],\n",
    "      'source': cm_file,\n",
    "      # Convert vocab to string because for bealean values we want \"True|False\" to match csv data.\n",
    "      'labels': list(map(str, vocab)),\n",
    "    }\n",
    "    ]\n",
    "  }\n",
    "\n",
    "\n",
    "#with file_io.FileIO('/mlpipeline-ui-metadata.json', 'w') as f:\n",
    "with file_io.FileIO('/home/jupyter/kubeflow-pipeline-demo/customer_churn_analysis/mlpipeline-ui-metadata.json', 'w') as f:\n",
    "    json.dump(metadata, f)\n"
   ]
  },
  {
   "cell_type": "code",
   "execution_count": 88,
   "id": "f062ab67",
   "metadata": {},
   "outputs": [],
   "source": [
    "from sklearn.metrics import roc_curve\n",
    "fpr, tpr, thresholds = roc_curve(y_test,predictions)"
   ]
  },
  {
   "cell_type": "code",
   "execution_count": 89,
   "id": "c6edf0c4",
   "metadata": {},
   "outputs": [],
   "source": [
    "from sklearn.metrics import auc\n",
    "auc = auc(fpr, tpr)"
   ]
  },
  {
   "cell_type": "code",
   "execution_count": 90,
   "id": "21ff760d",
   "metadata": {},
   "outputs": [
    {
     "name": "stdout",
     "output_type": "stream",
     "text": [
      "FPR:  [0.         0.09055627 1.        ]\n",
      "TPR:  [0.         0.52733686 1.        ]\n",
      "threshold:  [2 1 0]\n"
     ]
    }
   ],
   "source": [
    "print('FPR: ',fpr)\n",
    "print('TPR: ',tpr)\n",
    "print('threshold: ',thresholds)\n"
   ]
  },
  {
   "cell_type": "code",
   "execution_count": 92,
   "id": "94fa4607",
   "metadata": {},
   "outputs": [
    {
     "data": {
      "image/png": "[encoded data removed]",
      "text/plain": [
       "<Figure size 432x288 with 1 Axes>"
      ]
     },
     "metadata": {
      "needs_background": "light"
     },
     "output_type": "display_data"
    }
   ],
   "source": [
    "plt.figure(1)\n",
    "plt.plot([0, 1], [0, 1], 'k--')\n",
    "plt.plot(fpr, tpr, label='Keras (area = {:.3f})'.format(auc))\n",
    "plt.xlabel('False positive rate')\n",
    "plt.ylabel('True positive rate')\n",
    "plt.title('ROC curve')\n",
    "plt.legend(loc='best')\n",
    "plt.show()"
   ]
  },
  {
   "cell_type": "code",
   "execution_count": 63,
   "id": "22c1cf36",
   "metadata": {},
   "outputs": [
    {
     "data": {
      "image/png": "[encoded data removed]",
      "text/plain": [
       "<Figure size 432x288 with 1 Axes>"
      ]
     },
     "metadata": {
      "needs_background": "light"
     },
     "output_type": "display_data"
    }
   ],
   "source": [
    "import matplotlib.pyplot as plt \n",
    "plt.figure(1)\n",
    "plt.plot([0, 1], [0, 1], 'k--')\n",
    "plt.plot(fpr, tpr, label='Keras (area = {:.3f})'.format(auc))\n",
    "plt.xlabel('False positive rate')\n",
    "plt.ylabel('True positive rate')\n",
    "plt.title('ROC curve')\n",
    "plt.legend(loc='best')\n",
    "plt.show()"
   ]
  },
  {
   "cell_type": "code",
   "execution_count": null,
   "id": "12492e66",
   "metadata": {},
   "outputs": [],
   "source": [
    "def roc_vis(roc_csv_file_path: str, mlpipeline_ui_metadata_path: kfp.components.OutputPath()):\n",
    "  import json\n",
    "\n",
    "  df_roc = pd.DataFrame({'fpr': fpr, 'tpr': tpr, 'thresholds': thresholds})\n",
    "  roc_file = os.path.join(roc_csv_file_path, 'roc.csv')\n",
    "  with file_io.FileIO(roc_file, 'w') as f:\n",
    "    df_roc.to_csv(f, columns=['fpr', 'tpr', 'thresholds'], header=False, index=False)\n",
    "\n",
    "  metadata = {\n",
    "    'outputs': [{\n",
    "      'type': 'roc',\n",
    "      'format': 'csv',\n",
    "      'schema': [\n",
    "        {'name': 'fpr', 'type': 'NUMBER'},\n",
    "        {'name': 'tpr', 'type': 'NUMBER'},\n",
    "        {'name': 'thresholds', 'type': 'NUMBER'},\n",
    "      ],\n",
    "      'source': roc_file\n",
    "    }]\n",
    "  }\n",
    "\n",
    "  with open(mlpipeline_ui_metadata_path, 'w') as metadata_file:\n",
    "    json.dump(metadata, metadata_file)"
   ]
  },
  {
   "cell_type": "code",
   "execution_count": 45,
   "id": "cfe4f2fd",
   "metadata": {},
   "outputs": [],
   "source": [
    "'''\n",
    "model_accuracy=results['accuracy']\n",
    "model_precision=results['precision']\n",
    "model_loss=results['loss']\n",
    "model_recall=results['recall']\n",
    "'''\n",
    "\n",
    "metrics = {\n",
    "    'metrics': [{\n",
    "      'name': 'Accuracy',\n",
    "      'numberValue':  str(model_accuracy),\n",
    "      'format': \"PERCENTAGE\",\n",
    "    }, \n",
    "    {\n",
    "      'name': 'Precision',\n",
    "      'numberValue':  str(model_precision),\n",
    "      'format': \"PERCENTAGE\",\n",
    "    }, \n",
    "    {\n",
    "      'name': 'Loss',\n",
    "      'numberValue':  str(model_loss),\n",
    "      'format': \"PERCENTAGE\",\n",
    "    },\n",
    "    {\n",
    "      'name': 'Recall',\n",
    "      'numberValue':  str(model_recall),\n",
    "      'format': \"PERCENTAGE\",\n",
    "    } ,]\n",
    "  }\n",
    "with file_io.FileIO('/home/jupyter/kubeflow-pipeline-demo/customer_churn_analysis/mlpipeline-metrics.json', 'w') as f:\n",
    "    json.dump(metrics, f)"
   ]
  },
  {
   "cell_type": "code",
   "execution_count": 46,
   "id": "98051789",
   "metadata": {},
   "outputs": [
    {
     "name": "stdout",
     "output_type": "stream",
     "text": [
      "Train & Test Split Successfully comppleted\n",
      "Feature engineering started\n",
      "Feature engineering completed\n",
      "WARNING:tensorflow:From /opt/conda/lib/python3.7/site-packages/tensorflow/python/util/lazy_loader.py:63: The name tf.estimator.inputs is deprecated. Please use tf.compat.v1.estimator.inputs instead.\n",
      "\n",
      "WARNING:tensorflow:From train_evaluate_model.py:95: The name tf.estimator.inputs.pandas_input_fn is deprecated. Please use tf.compat.v1.estimator.inputs.pandas_input_fn instead.\n",
      "\n",
      "WARNING:tensorflow:Using temporary folder as model directory: /tmp/tmpt1zvv_bu\n",
      "Traning started\n",
      "WARNING:tensorflow:From /opt/conda/lib/python3.7/site-packages/tensorflow/python/training/training_util.py:236: Variable.initialized_value (from tensorflow.python.ops.variables) is deprecated and will be removed in a future version.\n",
      "Instructions for updating:\n",
      "Use Variable.read_value. Variables in 2.X are initialized automatically both in eager and graph (inside tf.defun) contexts.\n",
      "WARNING:tensorflow:From /opt/conda/lib/python3.7/site-packages/tensorflow_estimator/python/estimator/inputs/queues/feeding_queue_runner.py:65: QueueRunner.__init__ (from tensorflow.python.training.queue_runner_impl) is deprecated and will be removed in a future version.\n",
      "Instructions for updating:\n",
      "To construct input pipelines, use the `tf.data` module.\n",
      "WARNING:tensorflow:From /opt/conda/lib/python3.7/site-packages/tensorflow_estimator/python/estimator/inputs/queues/feeding_functions.py:491: add_queue_runner (from tensorflow.python.training.queue_runner_impl) is deprecated and will be removed in a future version.\n",
      "Instructions for updating:\n",
      "To construct input pipelines, use the `tf.data` module.\n",
      "WARNING:tensorflow:Layer linear/linear_model is casting an input tensor from dtype float64 to the layer's dtype of float32, which is new behavior in TensorFlow 2.  The layer has dtype float32 because its dtype defaults to floatx.\n",
      "\n",
      "If you intended to run this layer in float32, you can safely ignore this warning. If in doubt, this warning is likely only an issue if you are porting a TensorFlow 1.X model to TensorFlow 2.\n",
      "\n",
      "To change all layers to have dtype float64 by default, call `tf.keras.backend.set_floatx('float64')`. To change just this layer, pass dtype='float64' to the layer constructor. If you are the author of this layer, you can disable autocasting by passing autocast=False to the base Layer constructor.\n",
      "\n",
      "WARNING:tensorflow:From /opt/conda/lib/python3.7/site-packages/tensorflow_estimator/python/estimator/canned/linear.py:1481: Layer.add_variable (from tensorflow.python.keras.engine.base_layer_v1) is deprecated and will be removed in a future version.\n",
      "Instructions for updating:\n",
      "Please use `layer.add_weight` method instead.\n",
      "WARNING:tensorflow:From /opt/conda/lib/python3.7/site-packages/tensorflow/python/keras/optimizer_v2/ftrl.py:112: calling Constant.__init__ (from tensorflow.python.ops.init_ops) with dtype is deprecated and will be removed in a future version.\n",
      "Instructions for updating:\n",
      "Call initializer instance with the dtype argument instead of passing it to the constructor\n",
      "2021-07-23 08:28:43.216180: I tensorflow/core/platform/profile_utils/cpu_utils.cc:104] CPU Frequency: 2200155000 Hz\n",
      "2021-07-23 08:28:43.216501: I tensorflow/compiler/xla/service/service.cc:168] XLA service 0x5573ecb0d840 initialized for platform Host (this does not guarantee that XLA will be used). Devices:\n",
      "2021-07-23 08:28:43.216539: I tensorflow/compiler/xla/service/service.cc:176]   StreamExecutor device (0): Host, Default Version\n",
      "2021-07-23 08:28:43.216872: I tensorflow/core/common_runtime/process_util.cc:146] Creating new thread pool with default inter op setting: 2. Tune using inter_op_parallelism_threads for best performance.\n",
      "WARNING:tensorflow:From /opt/conda/lib/python3.7/site-packages/tensorflow/python/training/monitored_session.py:906: start_queue_runners (from tensorflow.python.training.queue_runner_impl) is deprecated and will be removed in a future version.\n",
      "Instructions for updating:\n",
      "To construct input pipelines, use the `tf.data` module.\n",
      "Traning completed\n",
      "Evaluation started\n",
      "WARNING:tensorflow:Layer linear/linear_model is casting an input tensor from dtype float64 to the layer's dtype of float32, which is new behavior in TensorFlow 2.  The layer has dtype float32 because its dtype defaults to floatx.\n",
      "\n",
      "If you intended to run this layer in float32, you can safely ignore this warning. If in doubt, this warning is likely only an issue if you are porting a TensorFlow 1.X model to TensorFlow 2.\n",
      "\n",
      "To change all layers to have dtype float64 by default, call `tf.keras.backend.set_floatx('float64')`. To change just this layer, pass dtype='float64' to the layer constructor. If you are the author of this layer, you can disable autocasting by passing autocast=False to the base Layer constructor.\n",
      "\n",
      "Evaluation completed\n",
      "Metrics dumped into cloud storage\n",
      "Making Predictions\n",
      "WARNING:tensorflow:Layer linear/linear_model is casting an input tensor from dtype float64 to the layer's dtype of float32, which is new behavior in TensorFlow 2.  The layer has dtype float32 because its dtype defaults to floatx.\n",
      "\n",
      "If you intended to run this layer in float32, you can safely ignore this warning. If in doubt, this warning is likely only an issue if you are porting a TensorFlow 1.X model to TensorFlow 2.\n",
      "\n",
      "To change all layers to have dtype float64 by default, call `tf.keras.backend.set_floatx('float64')`. To change just this layer, pass dtype='float64' to the layer constructor. If you are the author of this layer, you can disable autocasting by passing autocast=False to the base Layer constructor.\n",
      "\n",
      "Evaluating Model Perfoamnce using Confusion Matrix\n",
      "2021-07-23 08:31:37.004406: I tensorflow/core/common_runtime/process_util.cc:146] Creating new thread pool with default inter op setting: 2. Tune using inter_op_parallelism_threads for best performance.\n",
      "Metadata dumped at /home/jupyter/kubeflow-pipeline-demo/customer_churn_analysis/mlpipeline-ui-metadata.json \n",
      "Metrics dumped at /home/jupyter/kubeflow-pipeline-demo/customer_churn_analysis/mlpipeline-metrics.json\n"
     ]
    }
   ],
   "source": [
    "!python train_evaluate_model.py"
   ]
  },
  {
   "cell_type": "code",
   "execution_count": 47,
   "id": "48de15e0",
   "metadata": {},
   "outputs": [],
   "source": [
    "!pip freeze > requirements.txt"
   ]
  },
  {
   "cell_type": "code",
   "execution_count": null,
   "id": "bfa0538b",
   "metadata": {},
   "outputs": [],
   "source": []
  }
 ],
 "metadata": {
  "environment": {
   "name": "tf2-gpu.2-3.m74",
   "type": "gcloud",
   "uri": "gcr.io/deeplearning-platform-release/tf2-gpu.2-3:m74"
  },
  "kernelspec": {
   "display_name": "Python 3",
   "language": "python",
   "name": "python3"
  },
  "language_info": {
   "codemirror_mode": {
    "name": "ipython",
    "version": 3
   },
   "file_extension": ".py",
   "mimetype": "text/x-python",
   "name": "python",
   "nbconvert_exporter": "python",
   "pygments_lexer": "ipython3",
   "version": "3.7.10"
  }
 },
 "nbformat": 4,
 "nbformat_minor": 5
}
