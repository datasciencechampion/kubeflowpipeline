{
 "cells": [
  {
   "cell_type": "markdown",
   "id": "1a73ab26",
   "metadata": {},
   "source": [
    "# Building Kubeflow Pipeline\n",
    "## Use case : Customer Churn Prediction"
   ]
  },
  {
   "cell_type": "markdown",
   "id": "cf0bd768",
   "metadata": {},
   "source": [
    "## Step 1 : Build Docker Artifacts"
   ]
  },
  {
   "cell_type": "code",
   "execution_count": 1,
   "id": "9bfd90b7",
   "metadata": {},
   "outputs": [
    {
     "name": "stdout",
     "output_type": "stream",
     "text": [
      "/home/jupyter/kubeflow-pipeline-demo/customer_churn_analysis\n"
     ]
    }
   ],
   "source": [
    "cd /home/jupyter/kubeflow-pipeline-demo/customer_churn_analysis"
   ]
  },
  {
   "cell_type": "code",
   "execution_count": 2,
   "id": "6690586b",
   "metadata": {},
   "outputs": [
    {
     "name": "stdout",
     "output_type": "stream",
     "text": [
      "WARNING! Using --password via the CLI is insecure. Use --password-stdin.\n",
      "WARNING! Your password will be stored unencrypted in /home/jupyter/.docker/config.json.\n",
      "Configure a credential helper to remove this warning. See\n",
      "https://docs.docker.com/engine/reference/commandline/login/#credentials-store\n",
      "\n",
      "Login Succeeded\n"
     ]
    }
   ],
   "source": [
    "#Login to docker\n",
    "!docker login -u datasciencechampion -p pongapandit@6171"
   ]
  },
  {
   "cell_type": "code",
   "execution_count": 59,
   "id": "0c1f2eb9",
   "metadata": {},
   "outputs": [
    {
     "name": "stdout",
     "output_type": "stream",
     "text": [
      "Overwriting Dockerfile\n"
     ]
    }
   ],
   "source": [
    "%%writefile Dockerfile\n",
    "FROM tensorflow/tensorflow:2.2.0-gpu\n",
    "ARG DEBIAN_FRONTEND=noninteractive\n",
    "# Install apt dependencies\n",
    "RUN apt-get update && apt-get install -y \\\n",
    "    git \\\n",
    "    gpg-agent \\\n",
    "    python3-cairocffi \\\n",
    "    protobuf-compiler \\\n",
    "    python3-pil \\\n",
    "    python3-lxml \\\n",
    "    python3-tk \\\n",
    "    wget\n",
    "# Install gcloud and gsutil commands\n",
    "# https://cloud.google.com/sdk/docs/quickstart-debian-ubuntu\n",
    "RUN export CLOUD_SDK_REPO=\"cloud-sdk-$(lsb_release -c -s)\" && \\\n",
    "    echo \"deb http://packages.cloud.google.com/apt $CLOUD_SDK_REPO main\" | tee -a /etc/apt/sources.list.d/google-cloud-sdk.list && \\\n",
    "    curl https://packages.cloud.google.com/apt/doc/apt-key.gpg | apt-key add - && \\\n",
    "    apt-get update -y && apt-get install google-cloud-sdk -y\n",
    "WORKDIR /pipeline\n",
    "COPY ./ ./\n",
    "RUN pip install -r requirements.txt\n",
    "RUN pip install \"dask[dataframe]\" --upgrade\n",
    "RUN pip install decorator --upgrade\n",
    "ENV TF_CPP_MIN_LOG_LEVEL 3"
   ]
  },
  {
   "cell_type": "markdown",
   "id": "0f516814",
   "metadata": {},
   "source": [
    "## Step 2 : Building Docker Image"
   ]
  },
  {
   "cell_type": "code",
   "execution_count": 63,
   "id": "c72f08d8",
   "metadata": {},
   "outputs": [
    {
     "name": "stdout",
     "output_type": "stream",
     "text": [
      "Sending build context to Docker daemon  1.329MB\n",
      "Step 1/10 : FROM tensorflow/tensorflow:2.2.0-gpu\n",
      " ---> f5ba7a196d56\n",
      "Step 2/10 : ARG DEBIAN_FRONTEND=noninteractive\n",
      " ---> Using cache\n",
      " ---> b2e05ab73d8b\n",
      "Step 3/10 : RUN apt-get update && apt-get install -y     git     gpg-agent     python3-cairocffi     protobuf-compiler     python3-pil     python3-lxml     python3-tk     wget\n",
      " ---> Using cache\n",
      " ---> 0d616db986bf\n",
      "Step 4/10 : RUN export CLOUD_SDK_REPO=\"cloud-sdk-$(lsb_release -c -s)\" &&     echo \"deb http://packages.cloud.google.com/apt $CLOUD_SDK_REPO main\" | tee -a /etc/apt/sources.list.d/google-cloud-sdk.list &&     curl https://packages.cloud.google.com/apt/doc/apt-key.gpg | apt-key add - &&     apt-get update -y && apt-get install google-cloud-sdk -y\n",
      " ---> Using cache\n",
      " ---> 92da9db79b84\n",
      "Step 5/10 : WORKDIR /pipeline\n",
      " ---> Using cache\n",
      " ---> e6d134cf60f2\n",
      "Step 6/10 : COPY ./ ./\n",
      " ---> Using cache\n",
      " ---> 976f2d694cec\n",
      "Step 7/10 : RUN pip install -r requirements.txt\n",
      " ---> Using cache\n",
      " ---> d0089bf9bc3c\n",
      "Step 8/10 : RUN pip install \"dask[dataframe]\" --upgrade\n",
      " ---> Using cache\n",
      " ---> d5a2af490918\n",
      "Step 9/10 : RUN pip install decorator --upgrade\n",
      " ---> Using cache\n",
      " ---> f74d9bd9b872\n",
      "Step 10/10 : ENV TF_CPP_MIN_LOG_LEVEL 3\n",
      " ---> Using cache\n",
      " ---> 8f12c488fe40\n",
      "Successfully built 8f12c488fe40\n",
      "Successfully tagged datasciencechampion/kubeflow-pipeline-churn_prediction:latest\n"
     ]
    }
   ],
   "source": [
    "!docker build -t datasciencechampion/kubeflow-pipeline-churn_prediction ."
   ]
  },
  {
   "cell_type": "markdown",
   "id": "2500510d",
   "metadata": {},
   "source": [
    "## Push Docker Image to Docker hub"
   ]
  },
  {
   "cell_type": "code",
   "execution_count": 64,
   "id": "75dcb5f0",
   "metadata": {},
   "outputs": [
    {
     "name": "stdout",
     "output_type": "stream",
     "text": [
      "Using default tag: latest\n",
      "The push refers to repository [docker.io/datasciencechampion/kubeflow-pipeline-churn_prediction]\n",
      "\n",
      "\u001b[1B833cd69d: Preparing \n",
      "\u001b[1Bccb3b8e5: Preparing \n",
      "\u001b[1B7973907f: Preparing \n",
      "\u001b[1B75602735: Preparing \n",
      "\u001b[1B3c4a94f0: Preparing \n",
      "\u001b[1Ba48741b8: Preparing \n",
      "\u001b[1B17f323df: Preparing \n",
      "\u001b[1Be55f84c6: Preparing \n",
      "\u001b[1Bb0f92c14: Preparing \n",
      "\u001b[1Bcf4cd527: Preparing \n",
      "\u001b[1Bc1f74e01: Preparing \n",
      "\u001b[1B9e4b0fc9: Preparing \n",
      "\u001b[1Be3b79e0a: Preparing \n",
      "\u001b[1Be43735a0: Preparing \n",
      "\u001b[1B3918ca41: Preparing \n",
      "\u001b[1B768f66a4: Preparing \n",
      "\u001b[1Bd332a58a: Preparing \n",
      "\u001b[1Bf11cbf29: Preparing \n",
      "\u001b[1Ba4b22186: Preparing \n",
      "\u001b[1Bafb09dc3: Preparing \n",
      "\u001b[1Bb5a53aac: Preparing \n",
      "\u001b[1Bc8e5063e: Preparing \n",
      "\u001b[2Bc8e5063e: Layer already exists \u001b[18A\u001b[2K\u001b[16A\u001b[2K\u001b[13A\u001b[2K\u001b[11A\u001b[2K\u001b[8A\u001b[2K\u001b[4A\u001b[2K\u001b[3A\u001b[2K\u001b[2A\u001b[2Klatest: digest: sha256:6490dba35a9d9e80cf9a18e724c3567b691445587ff0735c51bfc6967fcad516 size: 5147\n"
     ]
    }
   ],
   "source": [
    "!docker push datasciencechampion/kubeflow-pipeline-churn_prediction"
   ]
  },
  {
   "cell_type": "markdown",
   "id": "7a4b2837",
   "metadata": {},
   "source": [
    "# Step 3: Install Kubeflow SDk"
   ]
  },
  {
   "cell_type": "code",
   "execution_count": 29,
   "id": "e4c85630",
   "metadata": {},
   "outputs": [
    {
     "name": "stdout",
     "output_type": "stream",
     "text": [
      "Requirement already satisfied: kfp in /opt/conda/lib/python3.7/site-packages (1.6.5)\n",
      "Requirement already satisfied: kfp-pipeline-spec<0.2.0,>=0.1.8 in /opt/conda/lib/python3.7/site-packages (from kfp) (0.1.8)\n",
      "Requirement already satisfied: strip-hints<1,>=0.1.8 in /opt/conda/lib/python3.7/site-packages (from kfp) (0.1.9)\n",
      "Requirement already satisfied: google-api-python-client<2,>=1.7.8 in /opt/conda/lib/python3.7/site-packages (from kfp) (1.12.8)\n",
      "Requirement already satisfied: fire<1,>=0.3.1 in /opt/conda/lib/python3.7/site-packages (from kfp) (0.4.0)\n",
      "Requirement already satisfied: protobuf<4,>=3.13.0 in /opt/conda/lib/python3.7/site-packages (from kfp) (3.16.0)\n",
      "Requirement already satisfied: tabulate<1,>=0.8.6 in /opt/conda/lib/python3.7/site-packages (from kfp) (0.8.9)\n",
      "Requirement already satisfied: Deprecated<2,>=1.2.7 in /opt/conda/lib/python3.7/site-packages (from kfp) (1.2.12)\n",
      "Requirement already satisfied: google-cloud-storage<2,>=1.20.0 in /opt/conda/lib/python3.7/site-packages (from kfp) (1.39.0)\n",
      "Requirement already satisfied: click<8,>=7.1.1 in /opt/conda/lib/python3.7/site-packages (from kfp) (7.1.2)\n",
      "Requirement already satisfied: docstring-parser<1,>=0.7.3 in /opt/conda/lib/python3.7/site-packages (from kfp) (0.9.1)\n",
      "Requirement already satisfied: PyYAML<6,>=5.3 in /opt/conda/lib/python3.7/site-packages (from kfp) (5.4.1)\n",
      "Requirement already satisfied: jsonschema<4,>=3.0.1 in /opt/conda/lib/python3.7/site-packages (from kfp) (3.2.0)\n",
      "Requirement already satisfied: kubernetes<13,>=8.0.0 in /opt/conda/lib/python3.7/site-packages (from kfp) (12.0.1)\n",
      "Requirement already satisfied: requests-toolbelt<1,>=0.8.0 in /opt/conda/lib/python3.7/site-packages (from kfp) (0.9.1)\n",
      "Requirement already satisfied: google-auth<2,>=1.6.1 in /opt/conda/lib/python3.7/site-packages (from kfp) (1.30.2)\n",
      "Requirement already satisfied: kfp-server-api<2.0.0,>=1.1.2 in /opt/conda/lib/python3.7/site-packages (from kfp) (1.6.0)\n",
      "Requirement already satisfied: cloudpickle<2,>=1.3.0 in /opt/conda/lib/python3.7/site-packages (from kfp) (1.6.0)\n",
      "Requirement already satisfied: absl-py<=0.11,>=0.9 in /opt/conda/lib/python3.7/site-packages (from kfp) (0.10.0)\n",
      "Requirement already satisfied: six in /opt/conda/lib/python3.7/site-packages (from absl-py<=0.11,>=0.9->kfp) (1.16.0)\n",
      "Requirement already satisfied: wrapt<2,>=1.10 in /opt/conda/lib/python3.7/site-packages (from Deprecated<2,>=1.2.7->kfp) (1.12.1)\n",
      "Requirement already satisfied: termcolor in /opt/conda/lib/python3.7/site-packages (from fire<1,>=0.3.1->kfp) (1.1.0)\n",
      "Requirement already satisfied: uritemplate<4dev,>=3.0.0 in /opt/conda/lib/python3.7/site-packages (from google-api-python-client<2,>=1.7.8->kfp) (3.0.1)\n",
      "Requirement already satisfied: google-auth-httplib2>=0.0.3 in /opt/conda/lib/python3.7/site-packages (from google-api-python-client<2,>=1.7.8->kfp) (0.1.0)\n",
      "Requirement already satisfied: google-api-core<2dev,>=1.21.0 in /opt/conda/lib/python3.7/site-packages (from google-api-python-client<2,>=1.7.8->kfp) (1.30.0)\n",
      "Requirement already satisfied: httplib2<1dev,>=0.15.0 in /opt/conda/lib/python3.7/site-packages (from google-api-python-client<2,>=1.7.8->kfp) (0.19.1)\n",
      "Requirement already satisfied: pytz in /opt/conda/lib/python3.7/site-packages (from google-api-core<2dev,>=1.21.0->google-api-python-client<2,>=1.7.8->kfp) (2021.1)\n",
      "Requirement already satisfied: googleapis-common-protos<2.0dev,>=1.6.0 in /opt/conda/lib/python3.7/site-packages (from google-api-core<2dev,>=1.21.0->google-api-python-client<2,>=1.7.8->kfp) (1.53.0)\n",
      "Requirement already satisfied: requests<3.0.0dev,>=2.18.0 in /opt/conda/lib/python3.7/site-packages (from google-api-core<2dev,>=1.21.0->google-api-python-client<2,>=1.7.8->kfp) (2.25.1)\n",
      "Requirement already satisfied: packaging>=14.3 in /opt/conda/lib/python3.7/site-packages (from google-api-core<2dev,>=1.21.0->google-api-python-client<2,>=1.7.8->kfp) (20.9)\n",
      "Requirement already satisfied: setuptools>=40.3.0 in /opt/conda/lib/python3.7/site-packages (from google-api-core<2dev,>=1.21.0->google-api-python-client<2,>=1.7.8->kfp) (49.6.0.post20210108)\n",
      "Requirement already satisfied: pyasn1-modules>=0.2.1 in /opt/conda/lib/python3.7/site-packages (from google-auth<2,>=1.6.1->kfp) (0.2.7)\n",
      "Requirement already satisfied: cachetools<5.0,>=2.0.0 in /opt/conda/lib/python3.7/site-packages (from google-auth<2,>=1.6.1->kfp) (4.2.2)\n",
      "Requirement already satisfied: rsa<5,>=3.1.4 in /opt/conda/lib/python3.7/site-packages (from google-auth<2,>=1.6.1->kfp) (4.7.2)\n",
      "Requirement already satisfied: google-cloud-core<2.0dev,>=1.4.1 in /opt/conda/lib/python3.7/site-packages (from google-cloud-storage<2,>=1.20.0->kfp) (1.7.0)\n",
      "Requirement already satisfied: google-resumable-media<2.0dev,>=1.3.0 in /opt/conda/lib/python3.7/site-packages (from google-cloud-storage<2,>=1.20.0->kfp) (1.3.1)\n",
      "Requirement already satisfied: google-crc32c<2.0dev,>=1.0 in /opt/conda/lib/python3.7/site-packages (from google-resumable-media<2.0dev,>=1.3.0->google-cloud-storage<2,>=1.20.0->kfp) (1.1.2)\n",
      "Requirement already satisfied: cffi>=1.0.0 in /opt/conda/lib/python3.7/site-packages (from google-crc32c<2.0dev,>=1.0->google-resumable-media<2.0dev,>=1.3.0->google-cloud-storage<2,>=1.20.0->kfp) (1.14.5)\n",
      "Requirement already satisfied: pycparser in /opt/conda/lib/python3.7/site-packages (from cffi>=1.0.0->google-crc32c<2.0dev,>=1.0->google-resumable-media<2.0dev,>=1.3.0->google-cloud-storage<2,>=1.20.0->kfp) (2.20)\n",
      "Requirement already satisfied: pyparsing<3,>=2.4.2 in /opt/conda/lib/python3.7/site-packages (from httplib2<1dev,>=0.15.0->google-api-python-client<2,>=1.7.8->kfp) (2.4.7)\n",
      "Requirement already satisfied: pyrsistent>=0.14.0 in /opt/conda/lib/python3.7/site-packages (from jsonschema<4,>=3.0.1->kfp) (0.17.3)\n",
      "Requirement already satisfied: attrs>=17.4.0 in /opt/conda/lib/python3.7/site-packages (from jsonschema<4,>=3.0.1->kfp) (21.2.0)\n",
      "Requirement already satisfied: importlib-metadata in /opt/conda/lib/python3.7/site-packages (from jsonschema<4,>=3.0.1->kfp) (4.5.0)\n",
      "Requirement already satisfied: certifi in /opt/conda/lib/python3.7/site-packages (from kfp-server-api<2.0.0,>=1.1.2->kfp) (2021.5.30)\n",
      "Requirement already satisfied: urllib3>=1.15 in /opt/conda/lib/python3.7/site-packages (from kfp-server-api<2.0.0,>=1.1.2->kfp) (1.26.5)\n",
      "Requirement already satisfied: python-dateutil in /opt/conda/lib/python3.7/site-packages (from kfp-server-api<2.0.0,>=1.1.2->kfp) (2.8.1)\n",
      "Requirement already satisfied: websocket-client!=0.40.0,!=0.41.*,!=0.42.*,>=0.32.0 in /opt/conda/lib/python3.7/site-packages (from kubernetes<13,>=8.0.0->kfp) (0.57.0)\n",
      "Requirement already satisfied: requests-oauthlib in /opt/conda/lib/python3.7/site-packages (from kubernetes<13,>=8.0.0->kfp) (1.3.0)\n",
      "Requirement already satisfied: pyasn1<0.5.0,>=0.4.6 in /opt/conda/lib/python3.7/site-packages (from pyasn1-modules>=0.2.1->google-auth<2,>=1.6.1->kfp) (0.4.8)\n",
      "Requirement already satisfied: idna<3,>=2.5 in /opt/conda/lib/python3.7/site-packages (from requests<3.0.0dev,>=2.18.0->google-api-core<2dev,>=1.21.0->google-api-python-client<2,>=1.7.8->kfp) (2.10)\n",
      "Requirement already satisfied: chardet<5,>=3.0.2 in /opt/conda/lib/python3.7/site-packages (from requests<3.0.0dev,>=2.18.0->google-api-core<2dev,>=1.21.0->google-api-python-client<2,>=1.7.8->kfp) (4.0.0)\n",
      "Requirement already satisfied: wheel in /opt/conda/lib/python3.7/site-packages (from strip-hints<1,>=0.1.8->kfp) (0.36.2)\n",
      "Requirement already satisfied: typing-extensions>=3.6.4 in /opt/conda/lib/python3.7/site-packages (from importlib-metadata->jsonschema<4,>=3.0.1->kfp) (3.10.0.0)\n",
      "Requirement already satisfied: zipp>=0.5 in /opt/conda/lib/python3.7/site-packages (from importlib-metadata->jsonschema<4,>=3.0.1->kfp) (3.4.1)\n",
      "Requirement already satisfied: oauthlib>=3.0.0 in /opt/conda/lib/python3.7/site-packages (from requests-oauthlib->kubernetes<13,>=8.0.0->kfp) (3.1.1)\n"
     ]
    }
   ],
   "source": [
    "!pip install kfp"
   ]
  },
  {
   "cell_type": "markdown",
   "id": "4beaa7b5",
   "metadata": {},
   "source": [
    "# Step 4 : Building Kubeflow Pipeline"
   ]
  },
  {
   "cell_type": "code",
   "execution_count": 65,
   "id": "1df851e0",
   "metadata": {},
   "outputs": [],
   "source": [
    "import kfp\n",
    "import kfp.components as comp\n",
    "from kubernetes.client.models import V1EnvVar"
   ]
  },
  {
   "cell_type": "markdown",
   "id": "03ff61c2",
   "metadata": {},
   "source": [
    "## Define kubeflow pipeline Component"
   ]
  },
  {
   "cell_type": "code",
   "execution_count": 66,
   "id": "1b047b20",
   "metadata": {},
   "outputs": [],
   "source": [
    "@kfp.dsl.component\n",
    "def get_sample_data():\n",
    "    # Defining component configuration\n",
    "    get_sample_data_component = kfp.dsl.ContainerOp(\n",
    "        name='Data Collection',\n",
    "        image='docker.io/datasciencechampion/kubeflow-pipeline-churn_prediction',\n",
    "        command=['python', 'get_sample_data.py'],\n",
    "        )\n",
    "    return get_sample_data_component"
   ]
  },
  {
   "cell_type": "code",
   "execution_count": 67,
   "id": "d3b4555a",
   "metadata": {},
   "outputs": [],
   "source": [
    "@kfp.dsl.component\n",
    "def data_preprocessing():    \n",
    "    # Defining component configuration\n",
    "    data_preprocessing = kfp.dsl.ContainerOp(\n",
    "        name='data-preprocessing',\n",
    "        image='docker.io/datasciencechampion/kubeflow-pipeline-churn_prediction',\n",
    "        command=['python', 'preprocess_data.py'],\n",
    "        )\n",
    "    return data_preprocessing"
   ]
  },
  {
   "cell_type": "code",
   "execution_count": 68,
   "id": "42edaf87",
   "metadata": {},
   "outputs": [],
   "source": [
    "@kfp.dsl.component\n",
    "def training_and_evaluation():\n",
    "    # Defining component configuration\n",
    "    training_and_evaluation_component = kfp.dsl.ContainerOp(\n",
    "        name='training-and-evaluation',\n",
    "        image='docker.io/datasciencechampion/kubeflow-pipeline-churn_prediction',\n",
    "        command=['python', 'train_evaluate_model.py'],\n",
    "        file_outputs={'mlpipeline-ui-metadata':'/mlpipeline-ui-metadata.json', \"mlpipeline-metrics\":'/mlpipeline-metrics.json'}\n",
    "        )\n",
    "    \n",
    "    return training_and_evaluation_component"
   ]
  },
  {
   "cell_type": "code",
   "execution_count": 69,
   "id": "2975ef03",
   "metadata": {},
   "outputs": [
    {
     "name": "stdout",
     "output_type": "stream",
     "text": [
      "{'ContainerOp': {'is_exit_handler': False, 'human_name': 'training-and-evaluation', 'display_name': None, 'name': 'training-and-evaluation 800007f7da18e325', 'node_selector': {}, 'volumes': [], 'tolerations': [], 'affinity': {}, 'pod_annotations': {}, 'pod_labels': {}, 'num_retries': 0, 'retry_policy': None, 'backoff_factor': None, 'backoff_duration': None, 'backoff_max_duration': None, 'timeout': 0, 'init_containers': [], 'sidecars': [], 'loop_args': None, '_inputs': [], 'dependent_names': [], 'enable_caching': True, 'attrs_with_pipelineparams': ['node_selector', 'volumes', 'pod_annotations', 'pod_labels', 'num_retries', 'init_containers', 'sidecars', 'tolerations', '_container', 'artifact_arguments', '_parameter_arguments'], '_is_v2': False, '_container': {'args': None,\n",
      " 'command': ['python', 'train_evaluate_model.py'],\n",
      " 'env': None,\n",
      " 'env_from': None,\n",
      " 'image': 'docker.io/datasciencechampion/kubeflow-pipeline-churn_prediction',\n",
      " 'image_pull_policy': None,\n",
      " 'lifecycle': None,\n",
      " 'liveness_probe': None,\n",
      " 'ports': None,\n",
      " 'readiness_probe': None,\n",
      " 'resources': None,\n",
      " 'security_context': None,\n",
      " 'startup_probe': None,\n",
      " 'stdin': None,\n",
      " 'stdin_once': None,\n",
      " 'termination_message_path': None,\n",
      " 'termination_message_policy': None,\n",
      " 'tty': None,\n",
      " 'volume_devices': None,\n",
      " 'volume_mounts': None,\n",
      " 'working_dir': None}, 'add_env_from': <function deprecation_warning.<locals>._wrapped at 0x7f7d95ab2c20>, 'add_env_variable': <function deprecation_warning.<locals>._wrapped at 0x7f7da18f7c20>, 'add_port': <function deprecation_warning.<locals>._wrapped at 0x7f7da18f7b00>, 'add_resource_limit': <function deprecation_warning.<locals>._wrapped at 0x7f7da18f79e0>, 'add_resource_request': <function deprecation_warning.<locals>._wrapped at 0x7f7da18f78c0>, 'add_volume_devices': <function deprecation_warning.<locals>._wrapped at 0x7f7da18f77a0>, 'add_volume_mount': <function deprecation_warning.<locals>._wrapped at 0x7f7da18f7680>, 'set_cpu_limit': <function deprecation_warning.<locals>._wrapped at 0x7f7da18f7560>, 'set_cpu_request': <function deprecation_warning.<locals>._wrapped at 0x7f7da18f7440>, 'set_ephemeral_storage_limit': <function deprecation_warning.<locals>._wrapped at 0x7f7da18f7320>, 'set_ephemeral_storage_request': <function deprecation_warning.<locals>._wrapped at 0x7f7da18f7170>, 'set_gpu_limit': <function deprecation_warning.<locals>._wrapped at 0x7f7da134b710>, 'set_image_pull_policy': <function deprecation_warning.<locals>._wrapped at 0x7f7da18dc200>, 'set_lifecycle': <function deprecation_warning.<locals>._wrapped at 0x7f7da18dc320>, 'set_liveness_probe': <function deprecation_warning.<locals>._wrapped at 0x7f7da18dc440>, 'set_memory_limit': <function deprecation_warning.<locals>._wrapped at 0x7f7da18dc560>, 'set_memory_request': <function deprecation_warning.<locals>._wrapped at 0x7f7da18dc680>, 'set_readiness_probe': <function deprecation_warning.<locals>._wrapped at 0x7f7da18dc7a0>, 'set_security_context': <function deprecation_warning.<locals>._wrapped at 0x7f7da18dc8c0>, 'set_stdin': <function deprecation_warning.<locals>._wrapped at 0x7f7da18dc9e0>, 'set_stdin_once': <function deprecation_warning.<locals>._wrapped at 0x7f7da18dcb00>, 'set_termination_message_path': <function deprecation_warning.<locals>._wrapped at 0x7f7da18dcc20>, 'set_termination_message_policy': <function deprecation_warning.<locals>._wrapped at 0x7f7da18dcd40>, 'set_tty': <function deprecation_warning.<locals>._wrapped at 0x7f7da18dce60>, 'input_artifact_paths': {}, 'artifact_arguments': {}, 'file_outputs': {}, 'output_artifact_paths': {'mlpipeline-ui-metadata': '/mlpipeline-ui-metadata.json', 'mlpipeline-metrics': '/mlpipeline-metrics.json'}, '_metadata': ComponentSpec(name='Training and evaluation', description=None, metadata=None, inputs=None, outputs=None, implementation=None, version='google.com/cloud/pipelines/component/v1'), '_parameter_arguments': None, 'execution_options': ExecutionOptionsSpec(retry_strategy=None, caching_strategy=CachingStrategySpec(max_cache_staleness=None)), 'outputs': {}, 'output': <kfp.dsl._container_op._MultipleOutputsError object at 0x7f7da18d2410>, 'pvolumes': {}, 'pvolume': None}}\n"
     ]
    }
   ],
   "source": [
    "# Let see output of component configuration\n",
    "debug = True\n",
    "if debug :\n",
    "    training_component_vis = training_and_evaluation()\n",
    "    print(training_component_vis)"
   ]
  },
  {
   "cell_type": "markdown",
   "id": "45fa66ab",
   "metadata": {},
   "source": [
    "## Final Kubeflow pipeline Definition"
   ]
  },
  {
   "cell_type": "code",
   "execution_count": 70,
   "id": "5d20b561",
   "metadata": {},
   "outputs": [],
   "source": [
    "@kfp.dsl.pipeline(\n",
    "  name=\"Telecom Customer Churn Prediction \",\n",
    "  description=\"Modeling Churn Prediction for telecom\"\n",
    ")\n",
    "def churn():\n",
    "    download_data = get_sample_data()\n",
    "    download_data.execution_options.caching_strategy.max_cache_staleness = \"P0D\"\n",
    "    data_processing = data_preprocessing().after(download_data)\n",
    "    data_processing.execution_options.caching_strategy.max_cache_staleness = \"P0D\"\n",
    "    train = training_and_evaluation().after(data_processing)\n",
    "    train.execution_options.caching_strategy.max_cache_staleness = \"P0D\""
   ]
  },
  {
   "cell_type": "code",
   "execution_count": 71,
   "id": "97e44cdc",
   "metadata": {},
   "outputs": [
    {
     "name": "stdout",
     "output_type": "stream",
     "text": [
      "None\n"
     ]
    }
   ],
   "source": [
    "# Let see output of pipeline configuration\n",
    "debug = True\n",
    "if debug :\n",
    "    training_pipeline_output = churn()\n",
    "    print(training_pipeline_output)"
   ]
  },
  {
   "cell_type": "markdown",
   "id": "4495125a",
   "metadata": {},
   "source": [
    "## Compile Kubeflow Pipeline\n",
    "### It will Generate .zip file inside this contain YAMl file which contain the configuration of kubeflow pipeline"
   ]
  },
  {
   "cell_type": "code",
   "execution_count": 72,
   "id": "e44f9ed1",
   "metadata": {},
   "outputs": [],
   "source": [
    "kfp.compiler.Compiler().compile(churn, 'kubeflow-pipeline-churn_prediction.zip')"
   ]
  },
  {
   "cell_type": "markdown",
   "id": "cc020380",
   "metadata": {},
   "source": [
    "# Step 5 : Connect to deployed kubeflow pipeline Endpoint (GCP)"
   ]
  },
  {
   "cell_type": "code",
   "execution_count": 73,
   "id": "1e4b81cd",
   "metadata": {},
   "outputs": [],
   "source": [
    "# Create kfp client\n",
    "# Note: Add the KubeFlow Pipeline endpoint below if the client is not running on the same cluster.\n",
    "#client = kfp.Client(\"336edb688959bb59-dot-us-central1.pipelines.googleusercontent.com\")\n",
    "client = kfp.Client(\"41ab66e06164f219-dot-us-central1.pipelines.googleusercontent.com\")"
   ]
  },
  {
   "cell_type": "markdown",
   "id": "1efa4250",
   "metadata": {},
   "source": [
    "# Step 6 : Create Experiment"
   ]
  },
  {
   "cell_type": "code",
   "execution_count": 74,
   "id": "63493c19",
   "metadata": {},
   "outputs": [
    {
     "data": {
      "text/html": [
       "<a href=\"http://41ab66e06164f219-dot-us-central1.pipelines.googleusercontent.com/#/experiments/details/2fed40c8-ab9d-4a24-880a-95d278fef477\" target=\"_blank\" >Experiment details</a>."
      ],
      "text/plain": [
       "<IPython.core.display.HTML object>"
      ]
     },
     "metadata": {},
     "output_type": "display_data"
    }
   ],
   "source": [
    "EXPERIMENT_NAME = 'churn-prediction-1'\n",
    "experiment = client.create_experiment(name=EXPERIMENT_NAME)"
   ]
  },
  {
   "cell_type": "markdown",
   "id": "0d2fac68",
   "metadata": {},
   "source": [
    "## Deploy pipeline to kubeflow pipeline Endpoint"
   ]
  },
  {
   "cell_type": "code",
   "execution_count": 75,
   "id": "f966ceb9",
   "metadata": {},
   "outputs": [
    {
     "data": {
      "text/html": [
       "<a href=\"http://41ab66e06164f219-dot-us-central1.pipelines.googleusercontent.com/#/runs/details/e936dd3d-93f4-494a-978e-459f421489e5\" target=\"_blank\" >Run details</a>."
      ],
      "text/plain": [
       "<IPython.core.display.HTML object>"
      ]
     },
     "metadata": {},
     "output_type": "display_data"
    }
   ],
   "source": [
    "run = client.run_pipeline(experiment.id, 'churn-prediction-run-4', 'kubeflow-pipeline-churn_prediction.zip')"
   ]
  },
  {
   "cell_type": "code",
   "execution_count": null,
   "id": "9c5b7fbc",
   "metadata": {},
   "outputs": [],
   "source": []
  }
 ],
 "metadata": {
  "environment": {
   "name": "tf2-gpu.2-3.m74",
   "type": "gcloud",
   "uri": "gcr.io/deeplearning-platform-release/tf2-gpu.2-3:m74"
  },
  "kernelspec": {
   "display_name": "Python 3",
   "language": "python",
   "name": "python3"
  },
  "language_info": {
   "codemirror_mode": {
    "name": "ipython",
    "version": 3
   },
   "file_extension": ".py",
   "mimetype": "text/x-python",
   "name": "python",
   "nbconvert_exporter": "python",
   "pygments_lexer": "ipython3",
   "version": "3.7.10"
  }
 },
 "nbformat": 4,
 "nbformat_minor": 5
}
